{
 "cells": [
  {
   "cell_type": "code",
   "execution_count": 1,
   "metadata": {},
   "outputs": [],
   "source": [
    "import pandas as pd\n",
    "import numpy as np\n",
    "from numpy import exp,pi,sin,cos,sinh,sqrt,roots\n",
    "#from scipy.integrate import tplquad,quad,dblquad\n",
    "import matplotlib as mpl\n",
    "import matplotlib.pyplot as plt\n",
    "import matplotlib.font_manager as fm\n",
    "\n",
    "from Parameters import Const\n",
    "from MEWs_Funcs import Spec_q,Spec_w,Derivatives,Curvarure\n",
    "from Save_Funcs import Save_to_Files\n",
    "\n",
    "font_names = [f.name for f in fm.fontManager.ttflist]\n",
    "#print(font_names)"
   ]
  },
  {
   "cell_type": "markdown",
   "metadata": {},
   "source": [
    "# Parameters"
   ]
  },
  {
   "cell_type": "code",
   "execution_count": 2,
   "metadata": {},
   "outputs": [
    {
     "name": "stdout",
     "output_type": "stream",
     "text": [
      "c11 = 2086220397359.9995 c12 = 1672968839999.9998 c44 = 1252638503999.9998 ro = 7.5905\n",
      "a = 2.8999992719999997e-08 M0 = 1358.315664 A = 8.9092308e-07 b2 = -54979528.84000003\n"
     ]
    }
   ],
   "source": [
    "x = 0.18\n",
    "mb,hp,g,ge,Ka,ro,a0,c11,c12,c44,M0,A,b2,al = Const(x)\n",
    "\n",
    "print('c11 =',c11,'c12 =',c12,'c44 =',c44,'ro =',ro)\n",
    "print('a =',a0,'M0 =',M0,'A =',A,'b2 =',b2)"
   ]
  },
  {
   "cell_type": "markdown",
   "metadata": {},
   "source": [
    "# Spectrum, Amplification and Curvature; Derivatives"
   ]
  },
  {
   "cell_type": "code",
   "execution_count": 3,
   "metadata": {},
   "outputs": [],
   "source": [
    "t_array = np.linspace(1.5708E-4,pi/2,100) #t_array = np.ones(1)*0.30473448739821\n",
    "fi = pi*0.17\n",
    "\n",
    "H00 = 3e3\n",
    "w = ge*(2*Ka/M0 + H00)\n",
    "H0 = 2940\n",
    "H = 2*Ka/M0 + H0\n",
    "\n",
    "qr,Ar, Kc = np.zeros([t_array.size,4], dtype=np.complex128), np.zeros([t_array.size,4]), np.zeros([t_array.size,4], dtype=np.complex128)\n",
    "qt,qf = np.zeros([t_array.size,4], dtype=np.complex128), np.zeros([t_array.size,4], dtype=np.complex128)\n",
    "qtt,qtf,qff = np.zeros([t_array.size,4], dtype=np.complex128), np.zeros([t_array.size,4], dtype=np.complex128), np.zeros([t_array.size,4], dtype=np.complex128)\n",
    "I1,II1 = np.zeros([t_array.size,4]), np.zeros([t_array.size,4], dtype=np.complex128)\n",
    "\n",
    "for t in t_array:\n",
    "    q = []\n",
    "    for qq in Spec_q(w,t,fi,x,H):\n",
    "        if np.real(qq) >= 0:\n",
    "            q.append(qq)\n",
    "    \n",
    "    f = np.sort(q)[::-1]\n",
    "    q = f[np.real(f>0)]\n",
    "\n",
    "    ii, =  np.where(np.isclose(t_array, t))\n",
    "    ii = ii.item()\n",
    "\n",
    "    for mode in range(4):\n",
    "        qr[ii,mode] = q[mode]\n",
    "        Kc[ii,mode] = Curvarure(w,q[mode],t,fi,x,H)[0]/a0**2\n",
    "        Ar[ii,mode] = Curvarure(w,q[mode],t,fi,x,H)[1]\n",
    "        qt[ii,mode] = Derivatives(w,q[mode],t,fi,x,H)[0]\n",
    "        qf[ii,mode] = Derivatives(w,q[mode],t,fi,x,H)[1]\n",
    "        qtt[ii,mode] = Derivatives(w,q[mode],t,fi,x,H)[2]\n",
    "        qff[ii,mode] = Derivatives(w,q[mode],t,fi,x,H)[3]\n",
    "        qtf[ii,mode] = Derivatives(w,q[mode],t,fi,x,H)[4]\n",
    "        I1[ii,mode] = Derivatives(w,q[mode],t,fi,x,H)[5]*a0**4\n",
    "        II1[ii,mode] = Derivatives(w,q[mode],t,fi,x,H)[6]*a0**2"
   ]
  },
  {
   "cell_type": "markdown",
   "metadata": {},
   "source": [
    "Save data to files"
   ]
  },
  {
   "cell_type": "code",
   "execution_count": 4,
   "metadata": {},
   "outputs": [],
   "source": [
    "Save_to_Files(t_array,Ar,Kc,qt,qf,qtt,qff,qtf,I1,II1)"
   ]
  },
  {
   "cell_type": "markdown",
   "metadata": {},
   "source": [
    "# Plotting"
   ]
  },
  {
   "cell_type": "code",
   "execution_count": null,
   "metadata": {},
   "outputs": [],
   "source": [
    "fig, ax = plt.subplots(1,2, figsize=(8, 8), subplot_kw={'projection': 'polar'})\n",
    "ax[0].plot(t_array, np.real(qr[:,0]),t_array, np.real(qr[:,1]),t_array, np.real(qr[:,2]),t_array, np.real(qr[:,3]))\n",
    "ax[0].set_thetalim([0,pi/2])\n",
    "ax[0].set_thetagrids([0, 15, 30, 45, 60, 75, 90])\n",
    "ax[0].grid(True)\n",
    "ax[1].plot(t_array, np.imag(qr[:,0]),t_array, np.imag(qr[:,1]),t_array, np.imag(qr[:,2]),t_array, np.imag(qr[:,3]))\n",
    "ax[1].set_thetalim([0,pi/2])\n",
    "ax[1].set_thetagrids([0, 15, 30, 45, 60, 75, 90])\n",
    "ax[1].grid(True)\n",
    "plt.show()\n",
    "\n",
    "fig, ax = plt.subplots(1,2, figsize=(14, 5))\n",
    "ax[0].plot(t_array, np.real(Kc[:,0]),t_array, np.real(Kc[:,1]),t_array, np.real(Kc[:,2]),t_array, np.real(Kc[:,3]))\n",
    "ax[0].set(xlabel='theta', ylabel='Re(K)')\n",
    "ax[0].yaxis.get_major_formatter().set_useOffset(True)\n",
    "ax[0].grid()\n",
    "ax[1].plot(t_array, np.imag(Kc[:,0]),t_array, np.imag(Kc[:,1]),t_array, np.imag(Kc[:,2]),t_array, np.imag(Kc[:,3]))\n",
    "ax[1].set(xlabel='theta', ylabel='Im(K)')\n",
    "ax[1].grid()\n",
    "plt.show()\n",
    "\n",
    "fig, ax = plt.subplots(1,1, figsize=(14, 5))\n",
    "ax.plot(t_array, Ar[:,0],t_array, Ar[:,1],t_array, Ar[:,2],t_array, Ar[:,3])\n",
    "ax.set(xlabel='theta', ylabel='Ampl_Factor')\n",
    "ax.xaxis.set_major_locator(mpl.ticker.MultipleLocator(0.1)) \n",
    "ax.yaxis.set_minor_locator (mpl.ticker.MultipleLocator(0.25))\n",
    "ax.set_yscale('log')\n",
    "ax.grid()\n",
    "mpl.rcParams['font.family'] = 'Times New Roman'\n",
    "plt.rcParams['font.size'] = 16\n",
    "plt.rcParams['axes.linewidth'] = 1.5\n",
    "plt.show()"
   ]
  }
 ],
 "metadata": {
  "interpreter": {
   "hash": "899f0a3c5ad0e42f7243cad936495903bada6a93186c371d9f61c48e98383a75"
  },
  "kernelspec": {
   "display_name": "Python 3.9.7 ('base')",
   "language": "python",
   "name": "python3"
  },
  "language_info": {
   "codemirror_mode": {
    "name": "ipython",
    "version": 3
   },
   "file_extension": ".py",
   "mimetype": "text/x-python",
   "name": "python",
   "nbconvert_exporter": "python",
   "pygments_lexer": "ipython3",
   "version": "3.9.7"
  },
  "orig_nbformat": 4
 },
 "nbformat": 4,
 "nbformat_minor": 2
}
