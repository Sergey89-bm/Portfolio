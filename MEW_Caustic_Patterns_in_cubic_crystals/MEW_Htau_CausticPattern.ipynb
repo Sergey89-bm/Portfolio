{
 "cells": [
  {
   "cell_type": "code",
   "execution_count": 1,
   "metadata": {
    "id": "YiDLy8OlzOCD",
    "slideshow": {
     "slide_type": "-"
    }
   },
   "outputs": [],
   "source": [
    "import sympy as sp\n",
    "from sympy import diff, symbols, Function, expand, solve, powsimp, cancel, Poly, Subs, simplify, factor, nroots, ratsimp\n",
    "from sympy.matrices import Matrix\n",
    "from sympy.series.formal import Coeff\n",
    "\n",
    "import numpy as np\n",
    "import pandas as pd\n",
    "\n",
    "import matplotlib.pyplot as plt\n",
    "import matplotlib as mpl\n",
    "import seaborn as sns\n",
    "\n",
    "from tqdm import tqdm  # tqdm displays the progress bar"
   ]
  },
  {
   "cell_type": "markdown",
   "metadata": {
    "id": "E-RzUZnLlg12"
   },
   "source": [
    "# Спектр МУВ в ферромагнетике с кубичекой кристалличекой решеткой. \n",
    "Внешнее магнитное поле напралено произвольно\n",
    "## Энергия ферромагнетика в лаборатоной СК (оси кубичеккого кристалла)"
   ]
  },
  {
   "cell_type": "code",
   "execution_count": 2,
   "metadata": {
    "id": "N3jUehW7l973"
   },
   "outputs": [],
   "source": [
    "c11, c12, c44, b1, b2, ro = symbols('c_{11} c_{12} c_{44} b_1 b_2 rho')\n",
    "al, ge = symbols('alpha g_e')\n",
    "A_ex, Ka, M0, H0, Ha = symbols('A_{ex} K_a M_0 H_0 H_a')\n",
    "\n",
    "x, y, z, t = symbols('x y z t')\n",
    "Ux, Uy, Uz = Function('U_x')(x,y,z,t), Function('U_y')(x,y,z,t), Function('U_z')(x,y,z,t)\n",
    "\n",
    "e0xx, e0yy, e0zz, e0xy, e0yz, e0xz = symbols('e_{0xx} e_{0yy} e_{0zz} e_{0xy} e_{0yz} e_{0xz}')\n",
    "exx, eyy, ezz, exy, eyz, exz = symbols('e_{xx} e_{yy} e_{zz} e_{xy} e_{yz} e_{xz}')\n",
    "\n",
    "M0x, M0y, M0z = symbols('M_{0x} M_{0y} M_{0z}')\n",
    "Mx, My, Mz = Function('M_x')(x,y,z,t), Function('M_y')(x,y,z,t), Function('M_z')(x,y,z,t)\n",
    "M = Matrix([Mx, My, Mz])\n",
    "\n",
    "# Углы внешнего магн поля и q в лабораторной ск\n",
    "tH, fH = symbols('t_H f_H')\n",
    "tq, fq = symbols('t_q f_q')\n",
    "\n",
    "# Hx, Hy, Hz = \n",
    "H = H0*Matrix([sp.sin(tH)*sp.cos(fH), sp.sin(tH)*sp.sin(fH), sp.cos(tH)])"
   ]
  },
  {
   "cell_type": "code",
   "execution_count": 3,
   "metadata": {
    "id": "5KiGGJVxojmM"
   },
   "outputs": [],
   "source": [
    "W_ex = A_ex/M0**2*(M.diff(x).dot(M.diff(x)) + M.diff(y).dot(M.diff(y)) + M.diff(z).dot(M.diff(z)))\n",
    "W_m = W_ex + Ka/M0**4*((Mx*My)**2 + (Mx*Mz)**2 + (Mz*My)**2) - M.dot(H)\n",
    "W_e = 0.5*(eyy**2 + exx**2 + ezz**2)*c11 + (exx*eyy + exx*ezz + eyy*ezz)*c12 + 2*(exy**2 + eyz**2 + exz**2)*c44\n",
    "W_me = (Mx**2*exx + My**2*eyy + Mz**2*ezz)*b1/M0**2 + 2*(Mx*My*exy + My*Mz*eyz + Mz*Mx*exz)*b2/M0**2\n",
    "W = W_e + W_m + W_me\n",
    "# expand(W)"
   ]
  },
  {
   "cell_type": "code",
   "execution_count": 4,
   "metadata": {},
   "outputs": [
    {
     "data": {
      "text/latex": [
       "$\\displaystyle \\frac{A_{ex} \\left(\\left(\\frac{\\partial}{\\partial x} \\operatorname{M_{x}}{\\left(x,y,z,t \\right)}\\right)^{2} + \\left(\\frac{\\partial}{\\partial y} \\operatorname{M_{x}}{\\left(x,y,z,t \\right)}\\right)^{2} + \\left(\\frac{\\partial}{\\partial z} \\operatorname{M_{x}}{\\left(x,y,z,t \\right)}\\right)^{2} + \\left(\\frac{\\partial}{\\partial x} \\operatorname{M_{y}}{\\left(x,y,z,t \\right)}\\right)^{2} + \\left(\\frac{\\partial}{\\partial y} \\operatorname{M_{y}}{\\left(x,y,z,t \\right)}\\right)^{2} + \\left(\\frac{\\partial}{\\partial z} \\operatorname{M_{y}}{\\left(x,y,z,t \\right)}\\right)^{2} + \\left(\\frac{\\partial}{\\partial x} \\operatorname{M_{z}}{\\left(x,y,z,t \\right)}\\right)^{2} + \\left(\\frac{\\partial}{\\partial y} \\operatorname{M_{z}}{\\left(x,y,z,t \\right)}\\right)^{2} + \\left(\\frac{\\partial}{\\partial z} \\operatorname{M_{z}}{\\left(x,y,z,t \\right)}\\right)^{2}\\right)}{M_{0}^{2}} - H_{0} \\operatorname{M_{x}}{\\left(x,y,z,t \\right)} \\sin{\\left(t_{H} \\right)} \\cos{\\left(f_{H} \\right)} - H_{0} \\operatorname{M_{y}}{\\left(x,y,z,t \\right)} \\sin{\\left(f_{H} \\right)} \\sin{\\left(t_{H} \\right)} - H_{0} \\operatorname{M_{z}}{\\left(x,y,z,t \\right)} \\cos{\\left(t_{H} \\right)} + \\frac{K_{a} \\left(\\operatorname{M_{x}}^{2}{\\left(x,y,z,t \\right)} \\operatorname{M_{y}}^{2}{\\left(x,y,z,t \\right)} + \\operatorname{M_{x}}^{2}{\\left(x,y,z,t \\right)} \\operatorname{M_{z}}^{2}{\\left(x,y,z,t \\right)} + \\operatorname{M_{y}}^{2}{\\left(x,y,z,t \\right)} \\operatorname{M_{z}}^{2}{\\left(x,y,z,t \\right)}\\right)}{M_{0}^{4}} + c_{11} \\cdot \\left(0.5 e_{xx}^{2} + 0.5 e_{yy}^{2} + 0.5 e_{zz}^{2}\\right) + c_{12} \\left(e_{xx} e_{yy} + e_{xx} e_{zz} + e_{yy} e_{zz}\\right) + c_{44} \\cdot \\left(2 e_{xy}^{2} + 2 e_{xz}^{2} + 2 e_{yz}^{2}\\right) + \\frac{b_{1} \\left(e_{xx} \\operatorname{M_{x}}^{2}{\\left(x,y,z,t \\right)} + e_{yy} \\operatorname{M_{y}}^{2}{\\left(x,y,z,t \\right)} + e_{zz} \\operatorname{M_{z}}^{2}{\\left(x,y,z,t \\right)}\\right)}{M_{0}^{2}} + \\frac{b_{2} \\cdot \\left(2 e_{xy} \\operatorname{M_{x}}{\\left(x,y,z,t \\right)} \\operatorname{M_{y}}{\\left(x,y,z,t \\right)} + 2 e_{xz} \\operatorname{M_{x}}{\\left(x,y,z,t \\right)} \\operatorname{M_{z}}{\\left(x,y,z,t \\right)} + 2 e_{yz} \\operatorname{M_{y}}{\\left(x,y,z,t \\right)} \\operatorname{M_{z}}{\\left(x,y,z,t \\right)}\\right)}{M_{0}^{2}}$"
      ],
      "text/plain": [
       "A_{ex}*(Derivative(M_x(x, y, z, t), x)**2 + Derivative(M_x(x, y, z, t), y)**2 + Derivative(M_x(x, y, z, t), z)**2 + Derivative(M_y(x, y, z, t), x)**2 + Derivative(M_y(x, y, z, t), y)**2 + Derivative(M_y(x, y, z, t), z)**2 + Derivative(M_z(x, y, z, t), x)**2 + Derivative(M_z(x, y, z, t), y)**2 + Derivative(M_z(x, y, z, t), z)**2)/M_0**2 - H_0*M_x(x, y, z, t)*sin(t_H)*cos(f_H) - H_0*M_y(x, y, z, t)*sin(f_H)*sin(t_H) - H_0*M_z(x, y, z, t)*cos(t_H) + K_a*(M_x(x, y, z, t)**2*M_y(x, y, z, t)**2 + M_x(x, y, z, t)**2*M_z(x, y, z, t)**2 + M_y(x, y, z, t)**2*M_z(x, y, z, t)**2)/M_0**4 + c_{11}*(0.5*e_{xx}**2 + 0.5*e_{yy}**2 + 0.5*e_{zz}**2) + c_{12}*(e_{xx}*e_{yy} + e_{xx}*e_{zz} + e_{yy}*e_{zz}) + c_{44}*(2*e_{xy}**2 + 2*e_{xz}**2 + 2*e_{yz}**2) + b_1*(e_{xx}*M_x(x, y, z, t)**2 + e_{yy}*M_y(x, y, z, t)**2 + e_{zz}*M_z(x, y, z, t)**2)/M_0**2 + b_2*(2*e_{xy}*M_x(x, y, z, t)*M_y(x, y, z, t) + 2*e_{xz}*M_x(x, y, z, t)*M_z(x, y, z, t) + 2*e_{yz}*M_y(x, y, z, t)*M_z(x, y, z, t))/M_0**2"
      ]
     },
     "execution_count": 4,
     "metadata": {},
     "output_type": "execute_result"
    }
   ],
   "source": [
    "W"
   ]
  },
  {
   "cell_type": "markdown",
   "metadata": {},
   "source": [
    "## Равновесное значние энергии. Перенормировка энергии"
   ]
  },
  {
   "cell_type": "code",
   "execution_count": 4,
   "metadata": {},
   "outputs": [],
   "source": [
    "W2=W.subs([(exx,e0xx+exx),(eyy,e0yy+eyy),(ezz,e0zz+ezz),(exy,e0xy+exy),(exz,e0xz+exz),(eyz,e0yz+eyz)])\n",
    "W2=W2.subs([(Mx,M0x+Mx),(My,M0y+My),(Mz,M0z+Mz)])\n",
    "\n",
    "ss = [(exx,0),(eyy,0),(ezz,0),(exy,0),(exz,0),(eyz,0), (Mx,0),(My,0),(Mz,0)]\n",
    "f1 = expand(W2.diff(Mx).subs(ss))\n",
    "f2 = expand(W2.diff(My).subs(ss))\n",
    "f3 = expand(W2.diff(Mz).subs(ss))\n",
    "f4 = expand(W2.diff(exx).subs(ss))\n",
    "f5 = expand(W2.diff(eyy).subs(ss))\n",
    "f6 = expand(W2.diff(ezz).subs(ss))\n",
    "f7 = expand(W2.diff(exy).subs(ss))\n",
    "f8 = expand(W2.diff(exz).subs(ss))\n",
    "f9 = expand(W2.diff(eyz).subs(ss))"
   ]
  },
  {
   "cell_type": "code",
   "execution_count": 5,
   "metadata": {},
   "outputs": [],
   "source": [
    "sol = solve([f4,f5,f6,f7,f8,f9],[e0xx,e0yy,e0zz,e0xy,e0yz,e0xz])\n",
    "e0xx_, e0yy_, e0zz_, e0xy_, e0yz_, e0xz_ = sol[e0xx], sol[e0yy], sol[e0zz], sol[e0xy], sol[e0yz], sol[e0xz]"
   ]
  },
  {
   "cell_type": "markdown",
   "metadata": {},
   "source": [
    "Значения равновесных $e^0_{ij}$"
   ]
  },
  {
   "cell_type": "code",
   "execution_count": 6,
   "metadata": {},
   "outputs": [
    {
     "data": {
      "text/latex": [
       "$\\displaystyle \\left[\\begin{matrix}\\frac{b_{1} \\left(- M_{0x}^{2} c_{11} - M_{0x}^{2} c_{12} + M_{0y}^{2} c_{12} + M_{0z}^{2} c_{12}\\right)}{M_{0}^{2} \\left(c_{11}^{2} + c_{11} c_{12} - 2.0 c_{12}^{2}\\right)}\\\\\\frac{b_{1} \\left(M_{0x}^{2} c_{12} - M_{0y}^{2} c_{11} - M_{0y}^{2} c_{12} + M_{0z}^{2} c_{12}\\right)}{M_{0}^{2} \\left(c_{11}^{2} + c_{11} c_{12} - 2.0 c_{12}^{2}\\right)}\\\\\\frac{b_{1} \\left(M_{0x}^{2} c_{12} + M_{0y}^{2} c_{12} - M_{0z}^{2} c_{11} - M_{0z}^{2} c_{12}\\right)}{M_{0}^{2} \\left(c_{11}^{2} + c_{11} c_{12} - 2.0 c_{12}^{2}\\right)}\\\\- \\frac{0.5 M_{0x} M_{0y} b_{2}}{M_{0}^{2} c_{44}}\\\\- \\frac{0.5 M_{0y} M_{0z} b_{2}}{M_{0}^{2} c_{44}}\\\\- \\frac{0.5 M_{0x} M_{0z} b_{2}}{M_{0}^{2} c_{44}}\\end{matrix}\\right]$"
      ],
      "text/plain": [
       "Matrix([\n",
       "[b_1*(-M_{0x}**2*c_{11} - M_{0x}**2*c_{12} + M_{0y}**2*c_{12} + M_{0z}**2*c_{12})/(M_0**2*(c_{11}**2 + c_{11}*c_{12} - 2.0*c_{12}**2))],\n",
       "[ b_1*(M_{0x}**2*c_{12} - M_{0y}**2*c_{11} - M_{0y}**2*c_{12} + M_{0z}**2*c_{12})/(M_0**2*(c_{11}**2 + c_{11}*c_{12} - 2.0*c_{12}**2))],\n",
       "[ b_1*(M_{0x}**2*c_{12} + M_{0y}**2*c_{12} - M_{0z}**2*c_{11} - M_{0z}**2*c_{12})/(M_0**2*(c_{11}**2 + c_{11}*c_{12} - 2.0*c_{12}**2))],\n",
       "[                                                                                               -0.5*M_{0x}*M_{0y}*b_2/(M_0**2*c_{44})],\n",
       "[                                                                                               -0.5*M_{0y}*M_{0z}*b_2/(M_0**2*c_{44})],\n",
       "[                                                                                               -0.5*M_{0x}*M_{0z}*b_2/(M_0**2*c_{44})]])"
      ]
     },
     "execution_count": 6,
     "metadata": {},
     "output_type": "execute_result"
    }
   ],
   "source": [
    "e0 = Matrix([e0xx_, e0yy_, e0zz_, e0xy_, e0yz_, e0xz_])\n",
    "simplify(e0)"
   ]
  },
  {
   "cell_type": "code",
   "execution_count": 7,
   "metadata": {},
   "outputs": [],
   "source": [
    "exx, eyy, ezz = e0xx + Ux.diff(x), e0yy + Uy.diff(y), e0zz + Uz.diff(z)\n",
    "exy, eyz, exz = e0xy + 0.5*(Ux.diff(y) + Uy.diff(x)), e0yz + 0.5*(Uy.diff(z) + Uz.diff(y)), e0xz + 0.5*(Ux.diff(z) + Uz.diff(x))\n",
    "\n",
    "vvv = [('e_{xx}',exx), ('e_{yy}',eyy), ('e_{zz}',ezz), ('e_{xz}',exz), ('e_{xy}',exy), ('e_{yz}',eyz)]\n",
    "W1 = W.subs(vvv)"
   ]
  },
  {
   "cell_type": "markdown",
   "metadata": {
    "id": "Nunjlm2bqZDU"
   },
   "source": [
    "##  Уравнения движения магнитного момента и упругих смещений\n",
    "Эффективное магн поле $ \\mathbf{H}_{eff} = -\\dfrac{δ W}{δ \\mathbf{M}} = -\\dfrac{∂ W}{∂ \\mathbf{M}} + ∑_k \\dfrac{∂}{∂ x_k}\\left( \\dfrac{∂ W}{∂\\left( \\frac{\\mathbf{M}}{∂ x_k} \\right)} \\right)$"
   ]
  },
  {
   "cell_type": "code",
   "execution_count": 8,
   "metadata": {
    "id": "2TFQqrhzt3Vx"
   },
   "outputs": [],
   "source": [
    "Heff_x = -W1.diff(Mx) + (W1.diff(Mx.diff(x)).diff(x) + W1.diff(Mx.diff(y)).diff(y) + W1.diff(Mx.diff(z)).diff(z))\n",
    "Heff_y = -W1.diff(My) + (W1.diff(My.diff(x)).diff(x) + W1.diff(My.diff(y)).diff(y) + W1.diff(My.diff(z)).diff(z))\n",
    "Heff_z = -W1.diff(Mz) + (W1.diff(Mz.diff(x)).diff(x) + W1.diff(Mz.diff(y)).diff(y) + W1.diff(Mz.diff(z)).diff(z))\n",
    "\n",
    "Heff = Matrix([Heff_x, Heff_y, Heff_z])\n",
    "# Heff"
   ]
  },
  {
   "cell_type": "markdown",
   "metadata": {
    "id": "cqB44N2Y0iwl"
   },
   "source": [
    "Вектор $\\dot{\\mathbf{M}} + γ_e[\\mathbf{M},\\mathbf{H}_{eff}] - \\dfrac{α}{M_0}[\\mathbf{M},\\dot{\\mathbf{M}}] \\,\\,\\, (=0)$"
   ]
  },
  {
   "cell_type": "code",
   "execution_count": 9,
   "metadata": {
    "id": "xsGTVPgs0dWH"
   },
   "outputs": [],
   "source": [
    "Magn = M.diff(t) + ge*M.cross(Heff) - al/M0*M.cross(M.diff(t))"
   ]
  },
  {
   "cell_type": "markdown",
   "metadata": {
    "id": "qzwdvpEi3pTy"
   },
   "source": [
    "Вектор $$\\rho\\ddot{\\mathbf{u}} + \\dfrac{\\delta W}{\\delta \\mathbf{u}} = 0, \\;\\;\\;\\; \n",
    "\\dfrac{\\delta W}{\\delta \\mathbf{u}} = - \\sum_i \\dfrac{\\partial}{\\partial x_i}\\left( \\dfrac{\\partial W}{\\partial \\left( \\dfrac{\\partial \\mathbf{u}}{\\partial x_i} \\right)} \\right)$$"
   ]
  },
  {
   "cell_type": "code",
   "execution_count": 10,
   "metadata": {
    "colab": {
     "background_save": true
    },
    "id": "a214Mmvh4y5k",
    "outputId": "5ddf85cc-6afc-46a6-9a21-06dad067b760"
   },
   "outputs": [],
   "source": [
    "elast_x = (W1.diff(Ux.diff(x))).diff(x) + (W1.diff(Ux.diff(y))).diff(y) + (W1.diff(Ux.diff(z))).diff(z) - ro*Ux.diff(t,2)\n",
    "elast_y = (W1.diff(Uy.diff(x))).diff(x) + (W1.diff(Uy.diff(y))).diff(y) + (W1.diff(Uy.diff(z))).diff(z) - ro*Uy.diff(t,2)\n",
    "elast_z = (W1.diff(Uz.diff(x))).diff(x) + (W1.diff(Uz.diff(y))).diff(y) + (W1.diff(Uz.diff(z))).diff(z) - ro*Uz.diff(t,2)\n",
    "\n",
    "Elast = expand( - Matrix([elast_x, elast_y, elast_z])/ro)\n",
    "# Elast"
   ]
  },
  {
   "cell_type": "markdown",
   "metadata": {
    "id": "ic4aaIV4UN69"
   },
   "source": [
    "### Ищем решения в виде плоских волн"
   ]
  },
  {
   "cell_type": "code",
   "execution_count": 11,
   "metadata": {
    "id": "rroYxGUYUNY_"
   },
   "outputs": [],
   "source": [
    "w, q = symbols('w q')\n",
    "mx, my, mz = symbols('m_x m_y m_z')\n",
    "ux, uy, uz = symbols('u_x u_y u_z')\n",
    "\n",
    "qx, qy, qz = q*sp.sin(tq)*sp.cos(fq), q*sp.sin(tq)*sp.sin(fq), q*sp.cos(tq)\n",
    "\n",
    "qv = Matrix([qx, qy, qz])\n",
    "r = Matrix([x, y, z])\n",
    "\n",
    "# Пусть равновесная намагниченность сонаправлена с внешним магн. полем\n",
    "M0x, M0y, M0z = M0*sp.sin(tH)*sp.cos(fH), M0*sp.sin(tH)*sp.sin(fH), M0*sp.cos(tH)\n",
    "\n",
    "Mr = Matrix([M0x, M0y, M0z]) + Matrix([mx, my, mz])*sp.exp(1j*(qv.dot(r)-w*t))\n",
    "Ur = Matrix([ux, uy, uz])*sp.exp(1j*(qv.dot(r)-w*t))\n",
    "\n",
    "vv = [(Mx,Mr[0]), (My,Mr[1]), (Mz,Mr[2]), (Ux,Ur[0]), (Uy,Ur[1]), (Uz,Ur[2])]\n",
    "\n",
    "Magn_q = expand(Magn.subs(vv).doit())\n",
    "Elast_q = expand(Elast.subs(vv).doit())"
   ]
  },
  {
   "cell_type": "markdown",
   "metadata": {},
   "source": [
    "Вектор $\\left\\lbrace \\dot{\\mathbf{M}} + γ_e[\\mathbf{M},\\mathbf{H}_{eff}] -  \\dfrac{α}{M_0}[\\mathbf{M},\\dot{\\mathbf{M}}] \\right\\rbrace \\,\\,\\, (= 0) $ в линейном приближении по $m_x,m_y,m_z$ и $u_x,u_y,u_z$ *exp(-iqr): "
   ]
  },
  {
   "cell_type": "code",
   "execution_count": 12,
   "metadata": {
    "cellView": "form",
    "colab": {
     "base_uri": "https://localhost:8080/",
     "height": 122
    },
    "id": "8REchZQnM10n",
    "outputId": "4057880b-2bee-4faa-e680-eb311c639496"
   },
   "outputs": [],
   "source": [
    "Magn_q_lin = Magn_q.subs([(sp.exp(-2j*w*t),0), (sp.exp(-3j*w*t),0), (sp.exp(-4j*w*t),0)])\n",
    "Magn_q_lin = powsimp(expand(Magn_q_lin*sp.exp(-1j*(qv.dot(r)-w*t))), force=True)"
   ]
  },
  {
   "cell_type": "markdown",
   "metadata": {},
   "source": [
    "Вектор $ \\left\\lbrace ρ\\ddot{u}_i - ∑_k \\dfrac{∂ σ_{ik}}{∂ x_{k}} \\right\\rbrace \\,\\,\\, (= 0)$ в линейном приближении по $m_x,m_y,m_z$ и $u_x,u_y,u_z$ *exp(-iqr):"
   ]
  },
  {
   "cell_type": "code",
   "execution_count": 13,
   "metadata": {
    "cellView": "form",
    "colab": {
     "base_uri": "https://localhost:8080/",
     "height": 92
    },
    "id": "Y6Oo2hSGN30A",
    "outputId": "8f6f6d0d-15cf-4125-c611-80b30155fa4c"
   },
   "outputs": [],
   "source": [
    "Elast_q_lin = Elast_q.subs([(sp.exp(-2j*w*t),0), (sp.exp(-3j*w*t),0), (sp.exp(-4j*w*t),0)])\n",
    "Elast_q_lin = powsimp(expand(Elast_q_lin*sp.exp(-1j*(qv.dot(r)-w*t))), force=True)"
   ]
  },
  {
   "cell_type": "markdown",
   "metadata": {
    "id": "51bH3od3Qwpv"
   },
   "source": [
    "### Формируем матрицу 6x6. \n",
    "\n",
    "Столбцы: $u_x,u_y,u_z, m_x,m_y,m_z$.\n",
    "\n",
    "Строки: первые три строки - $x,y,z$ компонеты ур-я для $\\mathbf{u}$;\n",
    "последние три - $x,y,z$ компонеты ур-я для $\\mathbf{m}$."
   ]
  },
  {
   "cell_type": "markdown",
   "metadata": {},
   "source": [
    "Элементы матрицы 'Matr'"
   ]
  },
  {
   "cell_type": "code",
   "execution_count": 14,
   "metadata": {
    "cellView": "form",
    "id": "YEKFV8DWxmcg"
   },
   "outputs": [],
   "source": [
    "M11 = Poly(Elast_q_lin[0], ux).coeff_monomial(ux)\n",
    "M12 = Poly(Elast_q_lin[0], uy).coeff_monomial(uy)\n",
    "M13 = Poly(Elast_q_lin[0], uz).coeff_monomial(uz)\n",
    "M14 = Poly(Elast_q_lin[0], mx).coeff_monomial(mx)\n",
    "M15 = Poly(Elast_q_lin[0], my).coeff_monomial(my)\n",
    "M16 = Poly(Elast_q_lin[0], mz).coeff_monomial(mz)\n",
    "\n",
    "M21 = Poly(Elast_q_lin[1], ux).coeff_monomial(ux)\n",
    "M22 = Poly(Elast_q_lin[1], uy).coeff_monomial(uy)\n",
    "M23 = Poly(Elast_q_lin[1], uz).coeff_monomial(uz)\n",
    "M24 = Poly(Elast_q_lin[1], mx).coeff_monomial(mx)\n",
    "M25 = Poly(Elast_q_lin[1], my).coeff_monomial(my)\n",
    "M26 = Poly(Elast_q_lin[1], mz).coeff_monomial(mz)\n",
    "\n",
    "M31 = Poly(Elast_q_lin[2], ux).coeff_monomial(ux)\n",
    "M32 = Poly(Elast_q_lin[2], uy).coeff_monomial(uy)\n",
    "M33 = Poly(Elast_q_lin[2], uz).coeff_monomial(uz)\n",
    "M34 = Poly(Elast_q_lin[2], mx).coeff_monomial(mx)\n",
    "M35 = Poly(Elast_q_lin[2], my).coeff_monomial(my)\n",
    "M36 = Poly(Elast_q_lin[2], mz).coeff_monomial(mz)\n",
    "\n",
    "M41 = Poly(Magn_q_lin[0], ux).coeff_monomial(ux)\n",
    "M42 = Poly(Magn_q_lin[0], uy).coeff_monomial(uy)\n",
    "M43 = Poly(Magn_q_lin[0], uz).coeff_monomial(uz)\n",
    "M44 = Poly(Magn_q_lin[0], mx).coeff_monomial(mx)\n",
    "M45 = Poly(Magn_q_lin[0], my).coeff_monomial(my)\n",
    "M46 = Poly(Magn_q_lin[0], mz).coeff_monomial(mz)\n",
    "\n",
    "M51 = Poly(Magn_q_lin[1], ux).coeff_monomial(ux)\n",
    "M52 = Poly(Magn_q_lin[1], uy).coeff_monomial(uy)\n",
    "M53 = Poly(Magn_q_lin[1], uz).coeff_monomial(uz)\n",
    "M54 = Poly(Magn_q_lin[1], mx).coeff_monomial(mx)\n",
    "M55 = Poly(Magn_q_lin[1], my).coeff_monomial(my)\n",
    "M56 = Poly(Magn_q_lin[1], mz).coeff_monomial(mz)\n",
    "\n",
    "M61 = Poly(Magn_q_lin[2], ux).coeff_monomial(ux)\n",
    "M62 = Poly(Magn_q_lin[2], uy).coeff_monomial(uy)\n",
    "M63 = Poly(Magn_q_lin[2], uz).coeff_monomial(uz)\n",
    "M64 = Poly(Magn_q_lin[2], mx).coeff_monomial(mx)\n",
    "M65 = Poly(Magn_q_lin[2], my).coeff_monomial(my)\n",
    "M66 = Poly(Magn_q_lin[2], mz).coeff_monomial(mz)"
   ]
  },
  {
   "cell_type": "code",
   "execution_count": 15,
   "metadata": {
    "cellView": "form",
    "code_folding": [],
    "colab": {
     "base_uri": "https://localhost:8080/",
     "height": 197
    },
    "id": "1UiLr2FRR9f2",
    "outputId": "0b973c04-bd78-45c6-f3a7-7af0a22e7d8d"
   },
   "outputs": [],
   "source": [
    "# Матрица 'Matr' 6x6\n",
    "Matr = Matrix([[M11,M12,M13,M14,M15,M16],\n",
    "               [M21,M22,M23,M24,M25,M26],\n",
    "               [M31,M32,M33,M34,M35,M36],\n",
    "               [M41,M42,M43,M44,M45,M46],\n",
    "               [M51,M52,M53,M54,M55,M56],\n",
    "               [M61,M62,M63,M64,M65,M66]])"
   ]
  },
  {
   "cell_type": "code",
   "execution_count": 16,
   "metadata": {},
   "outputs": [],
   "source": [
    "ss = [('e_{0xx}',e0xx_), ('e_{0yy}',e0yy_), ('e_{0zz}',e0zz_), ('e_{0xz}',e0xz_), ('e_{0xy}',e0xy_), ('e_{0yz}',e0yz_)]\n",
    "m0 = [('M_{0x}',M0x), ('M_{0y}',M0y), ('M_{0z}',M0z)]\n",
    "\n",
    "Matr = Matr.subs(ss).subs(m0)"
   ]
  },
  {
   "cell_type": "code",
   "execution_count": 52,
   "metadata": {
    "scrolled": true
   },
   "outputs": [
    {
     "data": {
      "text/latex": [
       "$\\displaystyle \\left[\\begin{matrix}\\frac{1.0 c_{11} q^{2} \\sin^{2}{\\left(t_{q} \\right)} \\cos^{2}{\\left(f_{q} \\right)}}{\\rho} + \\frac{1.0 c_{44} q^{2} \\sin^{2}{\\left(f_{q} \\right)} \\sin^{2}{\\left(t_{q} \\right)}}{\\rho} + \\frac{1.0 c_{44} q^{2} \\cos^{2}{\\left(t_{q} \\right)}}{\\rho} - 1.0 w^{2} & \\frac{1.0 c_{12} q^{2} \\sin{\\left(f_{q} \\right)} \\sin^{2}{\\left(t_{q} \\right)} \\cos{\\left(f_{q} \\right)}}{\\rho} + \\frac{1.0 c_{44} q^{2} \\sin{\\left(f_{q} \\right)} \\sin^{2}{\\left(t_{q} \\right)} \\cos{\\left(f_{q} \\right)}}{\\rho} & \\frac{1.0 c_{12} q^{2} \\sin{\\left(t_{q} \\right)} \\cos{\\left(f_{q} \\right)} \\cos{\\left(t_{q} \\right)}}{\\rho} + \\frac{1.0 c_{44} q^{2} \\sin{\\left(t_{q} \\right)} \\cos{\\left(f_{q} \\right)} \\cos{\\left(t_{q} \\right)}}{\\rho} & - \\frac{2.0 i b_{1} q \\sin{\\left(t_{H} \\right)} \\sin{\\left(t_{q} \\right)} \\cos{\\left(f_{H} \\right)} \\cos{\\left(f_{q} \\right)}}{M_{0} \\rho} - \\frac{1.0 i b_{2} q \\sin{\\left(f_{H} \\right)} \\sin{\\left(f_{q} \\right)} \\sin{\\left(t_{H} \\right)} \\sin{\\left(t_{q} \\right)}}{M_{0} \\rho} - \\frac{1.0 i b_{2} q \\cos{\\left(t_{H} \\right)} \\cos{\\left(t_{q} \\right)}}{M_{0} \\rho} & - \\frac{1.0 i b_{2} q \\sin{\\left(f_{q} \\right)} \\sin{\\left(t_{H} \\right)} \\sin{\\left(t_{q} \\right)} \\cos{\\left(f_{H} \\right)}}{M_{0} \\rho} & - \\frac{1.0 i b_{2} q \\sin{\\left(t_{H} \\right)} \\cos{\\left(f_{H} \\right)} \\cos{\\left(t_{q} \\right)}}{M_{0} \\rho}\\\\\\frac{1.0 c_{12} q^{2} \\sin{\\left(f_{q} \\right)} \\sin^{2}{\\left(t_{q} \\right)} \\cos{\\left(f_{q} \\right)}}{\\rho} + \\frac{1.0 c_{44} q^{2} \\sin{\\left(f_{q} \\right)} \\sin^{2}{\\left(t_{q} \\right)} \\cos{\\left(f_{q} \\right)}}{\\rho} & \\frac{1.0 c_{11} q^{2} \\sin^{2}{\\left(f_{q} \\right)} \\sin^{2}{\\left(t_{q} \\right)}}{\\rho} + \\frac{1.0 c_{44} q^{2} \\sin^{2}{\\left(t_{q} \\right)} \\cos^{2}{\\left(f_{q} \\right)}}{\\rho} + \\frac{1.0 c_{44} q^{2} \\cos^{2}{\\left(t_{q} \\right)}}{\\rho} - 1.0 w^{2} & \\frac{1.0 c_{12} q^{2} \\sin{\\left(f_{q} \\right)} \\sin{\\left(t_{q} \\right)} \\cos{\\left(t_{q} \\right)}}{\\rho} + \\frac{1.0 c_{44} q^{2} \\sin{\\left(f_{q} \\right)} \\sin{\\left(t_{q} \\right)} \\cos{\\left(t_{q} \\right)}}{\\rho} & - \\frac{1.0 i b_{2} q \\sin{\\left(f_{H} \\right)} \\sin{\\left(t_{H} \\right)} \\sin{\\left(t_{q} \\right)} \\cos{\\left(f_{q} \\right)}}{M_{0} \\rho} & - \\frac{2.0 i b_{1} q \\sin{\\left(f_{H} \\right)} \\sin{\\left(f_{q} \\right)} \\sin{\\left(t_{H} \\right)} \\sin{\\left(t_{q} \\right)}}{M_{0} \\rho} - \\frac{1.0 i b_{2} q \\sin{\\left(t_{H} \\right)} \\sin{\\left(t_{q} \\right)} \\cos{\\left(f_{H} \\right)} \\cos{\\left(f_{q} \\right)}}{M_{0} \\rho} - \\frac{1.0 i b_{2} q \\cos{\\left(t_{H} \\right)} \\cos{\\left(t_{q} \\right)}}{M_{0} \\rho} & - \\frac{1.0 i b_{2} q \\sin{\\left(f_{H} \\right)} \\sin{\\left(t_{H} \\right)} \\cos{\\left(t_{q} \\right)}}{M_{0} \\rho}\\\\\\frac{1.0 c_{12} q^{2} \\sin{\\left(t_{q} \\right)} \\cos{\\left(f_{q} \\right)} \\cos{\\left(t_{q} \\right)}}{\\rho} + \\frac{1.0 c_{44} q^{2} \\sin{\\left(t_{q} \\right)} \\cos{\\left(f_{q} \\right)} \\cos{\\left(t_{q} \\right)}}{\\rho} & \\frac{1.0 c_{12} q^{2} \\sin{\\left(f_{q} \\right)} \\sin{\\left(t_{q} \\right)} \\cos{\\left(t_{q} \\right)}}{\\rho} + \\frac{1.0 c_{44} q^{2} \\sin{\\left(f_{q} \\right)} \\sin{\\left(t_{q} \\right)} \\cos{\\left(t_{q} \\right)}}{\\rho} & \\frac{1.0 c_{11} q^{2} \\cos^{2}{\\left(t_{q} \\right)}}{\\rho} + \\frac{1.0 c_{44} q^{2} \\sin^{2}{\\left(f_{q} \\right)} \\sin^{2}{\\left(t_{q} \\right)}}{\\rho} + \\frac{1.0 c_{44} q^{2} \\sin^{2}{\\left(t_{q} \\right)} \\cos^{2}{\\left(f_{q} \\right)}}{\\rho} - 1.0 w^{2} & - \\frac{1.0 i b_{2} q \\sin{\\left(t_{q} \\right)} \\cos{\\left(f_{q} \\right)} \\cos{\\left(t_{H} \\right)}}{M_{0} \\rho} & - \\frac{1.0 i b_{2} q \\sin{\\left(f_{q} \\right)} \\sin{\\left(t_{q} \\right)} \\cos{\\left(t_{H} \\right)}}{M_{0} \\rho} & - \\frac{2.0 i b_{1} q \\cos{\\left(t_{H} \\right)} \\cos{\\left(t_{q} \\right)}}{M_{0} \\rho} - \\frac{1.0 i b_{2} q \\sin{\\left(f_{H} \\right)} \\sin{\\left(f_{q} \\right)} \\sin{\\left(t_{H} \\right)} \\sin{\\left(t_{q} \\right)}}{M_{0} \\rho} - \\frac{1.0 i b_{2} q \\sin{\\left(t_{H} \\right)} \\sin{\\left(t_{q} \\right)} \\cos{\\left(f_{H} \\right)} \\cos{\\left(f_{q} \\right)}}{M_{0} \\rho}\\\\- 1.0 i b_{2} g_{e} q \\sin{\\left(f_{H} \\right)} \\sin^{2}{\\left(t_{H} \\right)} \\cos{\\left(f_{H} \\right)} \\cos{\\left(t_{q} \\right)} + 1.0 i b_{2} g_{e} q \\sin{\\left(f_{q} \\right)} \\sin{\\left(t_{H} \\right)} \\sin{\\left(t_{q} \\right)} \\cos{\\left(f_{H} \\right)} \\cos{\\left(t_{H} \\right)} & 2.0 i b_{1} g_{e} q \\sin{\\left(f_{H} \\right)} \\sin{\\left(f_{q} \\right)} \\sin{\\left(t_{H} \\right)} \\sin{\\left(t_{q} \\right)} \\cos{\\left(t_{H} \\right)} - 1.0 i b_{2} g_{e} q \\sin^{2}{\\left(f_{H} \\right)} \\sin^{2}{\\left(t_{H} \\right)} \\cos{\\left(t_{q} \\right)} + 1.0 i b_{2} g_{e} q \\sin{\\left(t_{H} \\right)} \\sin{\\left(t_{q} \\right)} \\cos{\\left(f_{H} \\right)} \\cos{\\left(f_{q} \\right)} \\cos{\\left(t_{H} \\right)} + 1.0 i b_{2} g_{e} q \\cos^{2}{\\left(t_{H} \\right)} \\cos{\\left(t_{q} \\right)} & - 2.0 i b_{1} g_{e} q \\sin{\\left(f_{H} \\right)} \\sin{\\left(t_{H} \\right)} \\cos{\\left(t_{H} \\right)} \\cos{\\left(t_{q} \\right)} - 1.0 i b_{2} g_{e} q \\sin^{2}{\\left(f_{H} \\right)} \\sin{\\left(f_{q} \\right)} \\sin^{2}{\\left(t_{H} \\right)} \\sin{\\left(t_{q} \\right)} - 1.0 i b_{2} g_{e} q \\sin{\\left(f_{H} \\right)} \\sin^{2}{\\left(t_{H} \\right)} \\sin{\\left(t_{q} \\right)} \\cos{\\left(f_{H} \\right)} \\cos{\\left(f_{q} \\right)} + 1.0 i b_{2} g_{e} q \\sin{\\left(f_{q} \\right)} \\sin{\\left(t_{q} \\right)} \\cos^{2}{\\left(t_{H} \\right)} & - 1.0 i w & \\frac{2.0 A_{ex} g_{e} q^{2} \\sin^{2}{\\left(f_{q} \\right)} \\sin^{2}{\\left(t_{q} \\right)} \\cos{\\left(t_{H} \\right)}}{M_{0}} + \\frac{2.0 A_{ex} g_{e} q^{2} \\sin^{2}{\\left(t_{q} \\right)} \\cos^{2}{\\left(f_{q} \\right)} \\cos{\\left(t_{H} \\right)}}{M_{0}} + \\frac{2.0 A_{ex} g_{e} q^{2} \\cos{\\left(t_{H} \\right)} \\cos^{2}{\\left(t_{q} \\right)}}{M_{0}} + H_{0} g_{e} \\cos{\\left(t_{H} \\right)} - \\frac{6 K_{a} g_{e} \\sin^{2}{\\left(f_{H} \\right)} \\sin^{2}{\\left(t_{H} \\right)} \\cos{\\left(t_{H} \\right)}}{M_{0}} + \\frac{2 K_{a} g_{e} \\cos^{3}{\\left(t_{H} \\right)}}{M_{0}} - 1.0 i \\alpha w \\cos{\\left(t_{H} \\right)} - \\frac{2 b_{1} g_{e} \\left(- M_{0}^{2} b_{1} c_{11} \\cos^{2}{\\left(t_{H} \\right)} + M_{0}^{2} b_{1} c_{12} \\sin^{2}{\\left(f_{H} \\right)} \\sin^{2}{\\left(t_{H} \\right)} + M_{0}^{2} b_{1} c_{12} \\sin^{2}{\\left(t_{H} \\right)} \\cos^{2}{\\left(f_{H} \\right)} - M_{0}^{2} b_{1} c_{12} \\cos^{2}{\\left(t_{H} \\right)}\\right) \\cos{\\left(t_{H} \\right)}}{M_{0} \\left(M_{0}^{2} c_{11}^{2} + M_{0}^{2} c_{11} c_{12} - 2.0 M_{0}^{2} c_{12}^{2}\\right)} + \\frac{2 b_{1} g_{e} \\left(- M_{0}^{2} b_{1} c_{11} \\sin^{2}{\\left(f_{H} \\right)} \\sin^{2}{\\left(t_{H} \\right)} - M_{0}^{2} b_{1} c_{12} \\sin^{2}{\\left(f_{H} \\right)} \\sin^{2}{\\left(t_{H} \\right)} + M_{0}^{2} b_{1} c_{12} \\sin^{2}{\\left(t_{H} \\right)} \\cos^{2}{\\left(f_{H} \\right)} + M_{0}^{2} b_{1} c_{12} \\cos^{2}{\\left(t_{H} \\right)}\\right) \\cos{\\left(t_{H} \\right)}}{M_{0} \\left(M_{0}^{2} c_{11}^{2} + M_{0}^{2} c_{11} c_{12} - 2.0 M_{0}^{2} c_{12}^{2}\\right)} + \\frac{2.0 b_{2}^{2} g_{e} \\sin^{2}{\\left(f_{H} \\right)} \\sin^{2}{\\left(t_{H} \\right)} \\cos{\\left(t_{H} \\right)}}{M_{0} c_{44}} + \\frac{1.0 b_{2}^{2} g_{e} \\sin^{2}{\\left(t_{H} \\right)} \\cos^{2}{\\left(f_{H} \\right)} \\cos{\\left(t_{H} \\right)}}{M_{0} c_{44}} & - \\frac{2.0 A_{ex} g_{e} q^{2} \\sin{\\left(f_{H} \\right)} \\sin^{2}{\\left(f_{q} \\right)} \\sin{\\left(t_{H} \\right)} \\sin^{2}{\\left(t_{q} \\right)}}{M_{0}} - \\frac{2.0 A_{ex} g_{e} q^{2} \\sin{\\left(f_{H} \\right)} \\sin{\\left(t_{H} \\right)} \\sin^{2}{\\left(t_{q} \\right)} \\cos^{2}{\\left(f_{q} \\right)}}{M_{0}} - \\frac{2.0 A_{ex} g_{e} q^{2} \\sin{\\left(f_{H} \\right)} \\sin{\\left(t_{H} \\right)} \\cos^{2}{\\left(t_{q} \\right)}}{M_{0}} - H_{0} g_{e} \\sin{\\left(f_{H} \\right)} \\sin{\\left(t_{H} \\right)} - \\frac{2 K_{a} g_{e} \\sin^{3}{\\left(f_{H} \\right)} \\sin^{3}{\\left(t_{H} \\right)}}{M_{0}} + \\frac{6 K_{a} g_{e} \\sin{\\left(f_{H} \\right)} \\sin{\\left(t_{H} \\right)} \\cos^{2}{\\left(t_{H} \\right)}}{M_{0}} + 1.0 i \\alpha w \\sin{\\left(f_{H} \\right)} \\sin{\\left(t_{H} \\right)} - \\frac{2 b_{1} g_{e} \\left(- M_{0}^{2} b_{1} c_{11} \\cos^{2}{\\left(t_{H} \\right)} + M_{0}^{2} b_{1} c_{12} \\sin^{2}{\\left(f_{H} \\right)} \\sin^{2}{\\left(t_{H} \\right)} + M_{0}^{2} b_{1} c_{12} \\sin^{2}{\\left(t_{H} \\right)} \\cos^{2}{\\left(f_{H} \\right)} - M_{0}^{2} b_{1} c_{12} \\cos^{2}{\\left(t_{H} \\right)}\\right) \\sin{\\left(f_{H} \\right)} \\sin{\\left(t_{H} \\right)}}{M_{0} \\left(M_{0}^{2} c_{11}^{2} + M_{0}^{2} c_{11} c_{12} - 2.0 M_{0}^{2} c_{12}^{2}\\right)} + \\frac{2 b_{1} g_{e} \\left(- M_{0}^{2} b_{1} c_{11} \\sin^{2}{\\left(f_{H} \\right)} \\sin^{2}{\\left(t_{H} \\right)} - M_{0}^{2} b_{1} c_{12} \\sin^{2}{\\left(f_{H} \\right)} \\sin^{2}{\\left(t_{H} \\right)} + M_{0}^{2} b_{1} c_{12} \\sin^{2}{\\left(t_{H} \\right)} \\cos^{2}{\\left(f_{H} \\right)} + M_{0}^{2} b_{1} c_{12} \\cos^{2}{\\left(t_{H} \\right)}\\right) \\sin{\\left(f_{H} \\right)} \\sin{\\left(t_{H} \\right)}}{M_{0} \\left(M_{0}^{2} c_{11}^{2} + M_{0}^{2} c_{11} c_{12} - 2.0 M_{0}^{2} c_{12}^{2}\\right)} - \\frac{1.0 b_{2}^{2} g_{e} \\sin{\\left(f_{H} \\right)} \\sin^{3}{\\left(t_{H} \\right)} \\cos^{2}{\\left(f_{H} \\right)}}{M_{0} c_{44}} - \\frac{2.0 b_{2}^{2} g_{e} \\sin{\\left(f_{H} \\right)} \\sin{\\left(t_{H} \\right)} \\cos^{2}{\\left(t_{H} \\right)}}{M_{0} c_{44}}\\\\- 2.0 i b_{1} g_{e} q \\sin{\\left(t_{H} \\right)} \\sin{\\left(t_{q} \\right)} \\cos{\\left(f_{H} \\right)} \\cos{\\left(f_{q} \\right)} \\cos{\\left(t_{H} \\right)} - 1.0 i b_{2} g_{e} q \\sin{\\left(f_{H} \\right)} \\sin{\\left(f_{q} \\right)} \\sin{\\left(t_{H} \\right)} \\sin{\\left(t_{q} \\right)} \\cos{\\left(t_{H} \\right)} + 1.0 i b_{2} g_{e} q \\sin^{2}{\\left(t_{H} \\right)} \\cos^{2}{\\left(f_{H} \\right)} \\cos{\\left(t_{q} \\right)} - 1.0 i b_{2} g_{e} q \\cos^{2}{\\left(t_{H} \\right)} \\cos{\\left(t_{q} \\right)} & 1.0 i b_{2} g_{e} q \\sin{\\left(f_{H} \\right)} \\sin^{2}{\\left(t_{H} \\right)} \\cos{\\left(f_{H} \\right)} \\cos{\\left(t_{q} \\right)} - 1.0 i b_{2} g_{e} q \\sin{\\left(f_{H} \\right)} \\sin{\\left(t_{H} \\right)} \\sin{\\left(t_{q} \\right)} \\cos{\\left(f_{q} \\right)} \\cos{\\left(t_{H} \\right)} & 2.0 i b_{1} g_{e} q \\sin{\\left(t_{H} \\right)} \\cos{\\left(f_{H} \\right)} \\cos{\\left(t_{H} \\right)} \\cos{\\left(t_{q} \\right)} + 1.0 i b_{2} g_{e} q \\sin{\\left(f_{H} \\right)} \\sin{\\left(f_{q} \\right)} \\sin^{2}{\\left(t_{H} \\right)} \\sin{\\left(t_{q} \\right)} \\cos{\\left(f_{H} \\right)} + 1.0 i b_{2} g_{e} q \\sin^{2}{\\left(t_{H} \\right)} \\sin{\\left(t_{q} \\right)} \\cos^{2}{\\left(f_{H} \\right)} \\cos{\\left(f_{q} \\right)} - 1.0 i b_{2} g_{e} q \\sin{\\left(t_{q} \\right)} \\cos{\\left(f_{q} \\right)} \\cos^{2}{\\left(t_{H} \\right)} & - \\frac{2.0 A_{ex} g_{e} q^{2} \\sin^{2}{\\left(f_{q} \\right)} \\sin^{2}{\\left(t_{q} \\right)} \\cos{\\left(t_{H} \\right)}}{M_{0}} - \\frac{2.0 A_{ex} g_{e} q^{2} \\sin^{2}{\\left(t_{q} \\right)} \\cos^{2}{\\left(f_{q} \\right)} \\cos{\\left(t_{H} \\right)}}{M_{0}} - \\frac{2.0 A_{ex} g_{e} q^{2} \\cos{\\left(t_{H} \\right)} \\cos^{2}{\\left(t_{q} \\right)}}{M_{0}} - H_{0} g_{e} \\cos{\\left(t_{H} \\right)} + \\frac{6 K_{a} g_{e} \\sin^{2}{\\left(t_{H} \\right)} \\cos^{2}{\\left(f_{H} \\right)} \\cos{\\left(t_{H} \\right)}}{M_{0}} - \\frac{2 K_{a} g_{e} \\cos^{3}{\\left(t_{H} \\right)}}{M_{0}} + 1.0 i \\alpha w \\cos{\\left(t_{H} \\right)} + \\frac{2 b_{1} g_{e} \\left(- M_{0}^{2} b_{1} c_{11} \\cos^{2}{\\left(t_{H} \\right)} + M_{0}^{2} b_{1} c_{12} \\sin^{2}{\\left(f_{H} \\right)} \\sin^{2}{\\left(t_{H} \\right)} + M_{0}^{2} b_{1} c_{12} \\sin^{2}{\\left(t_{H} \\right)} \\cos^{2}{\\left(f_{H} \\right)} - M_{0}^{2} b_{1} c_{12} \\cos^{2}{\\left(t_{H} \\right)}\\right) \\cos{\\left(t_{H} \\right)}}{M_{0} \\left(M_{0}^{2} c_{11}^{2} + M_{0}^{2} c_{11} c_{12} - 2.0 M_{0}^{2} c_{12}^{2}\\right)} - \\frac{2 b_{1} g_{e} \\left(- M_{0}^{2} b_{1} c_{11} \\sin^{2}{\\left(t_{H} \\right)} \\cos^{2}{\\left(f_{H} \\right)} + M_{0}^{2} b_{1} c_{12} \\sin^{2}{\\left(f_{H} \\right)} \\sin^{2}{\\left(t_{H} \\right)} - M_{0}^{2} b_{1} c_{12} \\sin^{2}{\\left(t_{H} \\right)} \\cos^{2}{\\left(f_{H} \\right)} + M_{0}^{2} b_{1} c_{12} \\cos^{2}{\\left(t_{H} \\right)}\\right) \\cos{\\left(t_{H} \\right)}}{M_{0} \\left(M_{0}^{2} c_{11}^{2} + M_{0}^{2} c_{11} c_{12} - 2.0 M_{0}^{2} c_{12}^{2}\\right)} - \\frac{1.0 b_{2}^{2} g_{e} \\sin^{2}{\\left(f_{H} \\right)} \\sin^{2}{\\left(t_{H} \\right)} \\cos{\\left(t_{H} \\right)}}{M_{0} c_{44}} - \\frac{2.0 b_{2}^{2} g_{e} \\sin^{2}{\\left(t_{H} \\right)} \\cos^{2}{\\left(f_{H} \\right)} \\cos{\\left(t_{H} \\right)}}{M_{0} c_{44}} & - 1.0 i w & \\frac{2.0 A_{ex} g_{e} q^{2} \\sin^{2}{\\left(f_{q} \\right)} \\sin{\\left(t_{H} \\right)} \\sin^{2}{\\left(t_{q} \\right)} \\cos{\\left(f_{H} \\right)}}{M_{0}} + \\frac{2.0 A_{ex} g_{e} q^{2} \\sin{\\left(t_{H} \\right)} \\sin^{2}{\\left(t_{q} \\right)} \\cos{\\left(f_{H} \\right)} \\cos^{2}{\\left(f_{q} \\right)}}{M_{0}} + \\frac{2.0 A_{ex} g_{e} q^{2} \\sin{\\left(t_{H} \\right)} \\cos{\\left(f_{H} \\right)} \\cos^{2}{\\left(t_{q} \\right)}}{M_{0}} + H_{0} g_{e} \\sin{\\left(t_{H} \\right)} \\cos{\\left(f_{H} \\right)} + \\frac{2 K_{a} g_{e} \\sin^{3}{\\left(t_{H} \\right)} \\cos^{3}{\\left(f_{H} \\right)}}{M_{0}} - \\frac{6 K_{a} g_{e} \\sin{\\left(t_{H} \\right)} \\cos{\\left(f_{H} \\right)} \\cos^{2}{\\left(t_{H} \\right)}}{M_{0}} - 1.0 i \\alpha w \\sin{\\left(t_{H} \\right)} \\cos{\\left(f_{H} \\right)} + \\frac{2 b_{1} g_{e} \\left(- M_{0}^{2} b_{1} c_{11} \\cos^{2}{\\left(t_{H} \\right)} + M_{0}^{2} b_{1} c_{12} \\sin^{2}{\\left(f_{H} \\right)} \\sin^{2}{\\left(t_{H} \\right)} + M_{0}^{2} b_{1} c_{12} \\sin^{2}{\\left(t_{H} \\right)} \\cos^{2}{\\left(f_{H} \\right)} - M_{0}^{2} b_{1} c_{12} \\cos^{2}{\\left(t_{H} \\right)}\\right) \\sin{\\left(t_{H} \\right)} \\cos{\\left(f_{H} \\right)}}{M_{0} \\left(M_{0}^{2} c_{11}^{2} + M_{0}^{2} c_{11} c_{12} - 2.0 M_{0}^{2} c_{12}^{2}\\right)} - \\frac{2 b_{1} g_{e} \\left(- M_{0}^{2} b_{1} c_{11} \\sin^{2}{\\left(t_{H} \\right)} \\cos^{2}{\\left(f_{H} \\right)} + M_{0}^{2} b_{1} c_{12} \\sin^{2}{\\left(f_{H} \\right)} \\sin^{2}{\\left(t_{H} \\right)} - M_{0}^{2} b_{1} c_{12} \\sin^{2}{\\left(t_{H} \\right)} \\cos^{2}{\\left(f_{H} \\right)} + M_{0}^{2} b_{1} c_{12} \\cos^{2}{\\left(t_{H} \\right)}\\right) \\sin{\\left(t_{H} \\right)} \\cos{\\left(f_{H} \\right)}}{M_{0} \\left(M_{0}^{2} c_{11}^{2} + M_{0}^{2} c_{11} c_{12} - 2.0 M_{0}^{2} c_{12}^{2}\\right)} + \\frac{1.0 b_{2}^{2} g_{e} \\sin^{2}{\\left(f_{H} \\right)} \\sin^{3}{\\left(t_{H} \\right)} \\cos{\\left(f_{H} \\right)}}{M_{0} c_{44}} + \\frac{2.0 b_{2}^{2} g_{e} \\sin{\\left(t_{H} \\right)} \\cos{\\left(f_{H} \\right)} \\cos^{2}{\\left(t_{H} \\right)}}{M_{0} c_{44}}\\\\2.0 i b_{1} g_{e} q \\sin{\\left(f_{H} \\right)} \\sin^{2}{\\left(t_{H} \\right)} \\sin{\\left(t_{q} \\right)} \\cos{\\left(f_{H} \\right)} \\cos{\\left(f_{q} \\right)} + 1.0 i b_{2} g_{e} q \\sin^{2}{\\left(f_{H} \\right)} \\sin{\\left(f_{q} \\right)} \\sin^{2}{\\left(t_{H} \\right)} \\sin{\\left(t_{q} \\right)} + 1.0 i b_{2} g_{e} q \\sin{\\left(f_{H} \\right)} \\sin{\\left(t_{H} \\right)} \\cos{\\left(t_{H} \\right)} \\cos{\\left(t_{q} \\right)} - 1.0 i b_{2} g_{e} q \\sin{\\left(f_{q} \\right)} \\sin^{2}{\\left(t_{H} \\right)} \\sin{\\left(t_{q} \\right)} \\cos^{2}{\\left(f_{H} \\right)} & - 2.0 i b_{1} g_{e} q \\sin{\\left(f_{H} \\right)} \\sin{\\left(f_{q} \\right)} \\sin^{2}{\\left(t_{H} \\right)} \\sin{\\left(t_{q} \\right)} \\cos{\\left(f_{H} \\right)} + 1.0 i b_{2} g_{e} q \\sin^{2}{\\left(f_{H} \\right)} \\sin^{2}{\\left(t_{H} \\right)} \\sin{\\left(t_{q} \\right)} \\cos{\\left(f_{q} \\right)} - 1.0 i b_{2} g_{e} q \\sin^{2}{\\left(t_{H} \\right)} \\sin{\\left(t_{q} \\right)} \\cos^{2}{\\left(f_{H} \\right)} \\cos{\\left(f_{q} \\right)} - 1.0 i b_{2} g_{e} q \\sin{\\left(t_{H} \\right)} \\cos{\\left(f_{H} \\right)} \\cos{\\left(t_{H} \\right)} \\cos{\\left(t_{q} \\right)} & 1.0 i b_{2} g_{e} q \\sin{\\left(f_{H} \\right)} \\sin{\\left(t_{H} \\right)} \\sin{\\left(t_{q} \\right)} \\cos{\\left(f_{q} \\right)} \\cos{\\left(t_{H} \\right)} - 1.0 i b_{2} g_{e} q \\sin{\\left(f_{q} \\right)} \\sin{\\left(t_{H} \\right)} \\sin{\\left(t_{q} \\right)} \\cos{\\left(f_{H} \\right)} \\cos{\\left(t_{H} \\right)} & \\frac{2.0 A_{ex} g_{e} q^{2} \\sin{\\left(f_{H} \\right)} \\sin^{2}{\\left(f_{q} \\right)} \\sin{\\left(t_{H} \\right)} \\sin^{2}{\\left(t_{q} \\right)}}{M_{0}} + \\frac{2.0 A_{ex} g_{e} q^{2} \\sin{\\left(f_{H} \\right)} \\sin{\\left(t_{H} \\right)} \\sin^{2}{\\left(t_{q} \\right)} \\cos^{2}{\\left(f_{q} \\right)}}{M_{0}} + \\frac{2.0 A_{ex} g_{e} q^{2} \\sin{\\left(f_{H} \\right)} \\sin{\\left(t_{H} \\right)} \\cos^{2}{\\left(t_{q} \\right)}}{M_{0}} + H_{0} g_{e} \\sin{\\left(f_{H} \\right)} \\sin{\\left(t_{H} \\right)} + \\frac{2 K_{a} g_{e} \\sin^{3}{\\left(f_{H} \\right)} \\sin^{3}{\\left(t_{H} \\right)}}{M_{0}} - \\frac{6 K_{a} g_{e} \\sin{\\left(f_{H} \\right)} \\sin^{3}{\\left(t_{H} \\right)} \\cos^{2}{\\left(f_{H} \\right)}}{M_{0}} - 1.0 i \\alpha w \\sin{\\left(f_{H} \\right)} \\sin{\\left(t_{H} \\right)} - \\frac{2 b_{1} g_{e} \\left(- M_{0}^{2} b_{1} c_{11} \\sin^{2}{\\left(f_{H} \\right)} \\sin^{2}{\\left(t_{H} \\right)} - M_{0}^{2} b_{1} c_{12} \\sin^{2}{\\left(f_{H} \\right)} \\sin^{2}{\\left(t_{H} \\right)} + M_{0}^{2} b_{1} c_{12} \\sin^{2}{\\left(t_{H} \\right)} \\cos^{2}{\\left(f_{H} \\right)} + M_{0}^{2} b_{1} c_{12} \\cos^{2}{\\left(t_{H} \\right)}\\right) \\sin{\\left(f_{H} \\right)} \\sin{\\left(t_{H} \\right)}}{M_{0} \\left(M_{0}^{2} c_{11}^{2} + M_{0}^{2} c_{11} c_{12} - 2.0 M_{0}^{2} c_{12}^{2}\\right)} + \\frac{2 b_{1} g_{e} \\left(- M_{0}^{2} b_{1} c_{11} \\sin^{2}{\\left(t_{H} \\right)} \\cos^{2}{\\left(f_{H} \\right)} + M_{0}^{2} b_{1} c_{12} \\sin^{2}{\\left(f_{H} \\right)} \\sin^{2}{\\left(t_{H} \\right)} - M_{0}^{2} b_{1} c_{12} \\sin^{2}{\\left(t_{H} \\right)} \\cos^{2}{\\left(f_{H} \\right)} + M_{0}^{2} b_{1} c_{12} \\cos^{2}{\\left(t_{H} \\right)}\\right) \\sin{\\left(f_{H} \\right)} \\sin{\\left(t_{H} \\right)}}{M_{0} \\left(M_{0}^{2} c_{11}^{2} + M_{0}^{2} c_{11} c_{12} - 2.0 M_{0}^{2} c_{12}^{2}\\right)} + \\frac{2.0 b_{2}^{2} g_{e} \\sin{\\left(f_{H} \\right)} \\sin^{3}{\\left(t_{H} \\right)} \\cos^{2}{\\left(f_{H} \\right)}}{M_{0} c_{44}} + \\frac{1.0 b_{2}^{2} g_{e} \\sin{\\left(f_{H} \\right)} \\sin{\\left(t_{H} \\right)} \\cos^{2}{\\left(t_{H} \\right)}}{M_{0} c_{44}} & - \\frac{2.0 A_{ex} g_{e} q^{2} \\sin^{2}{\\left(f_{q} \\right)} \\sin{\\left(t_{H} \\right)} \\sin^{2}{\\left(t_{q} \\right)} \\cos{\\left(f_{H} \\right)}}{M_{0}} - \\frac{2.0 A_{ex} g_{e} q^{2} \\sin{\\left(t_{H} \\right)} \\sin^{2}{\\left(t_{q} \\right)} \\cos{\\left(f_{H} \\right)} \\cos^{2}{\\left(f_{q} \\right)}}{M_{0}} - \\frac{2.0 A_{ex} g_{e} q^{2} \\sin{\\left(t_{H} \\right)} \\cos{\\left(f_{H} \\right)} \\cos^{2}{\\left(t_{q} \\right)}}{M_{0}} - H_{0} g_{e} \\sin{\\left(t_{H} \\right)} \\cos{\\left(f_{H} \\right)} + \\frac{6 K_{a} g_{e} \\sin^{2}{\\left(f_{H} \\right)} \\sin^{3}{\\left(t_{H} \\right)} \\cos{\\left(f_{H} \\right)}}{M_{0}} - \\frac{2 K_{a} g_{e} \\sin^{3}{\\left(t_{H} \\right)} \\cos^{3}{\\left(f_{H} \\right)}}{M_{0}} + 1.0 i \\alpha w \\sin{\\left(t_{H} \\right)} \\cos{\\left(f_{H} \\right)} - \\frac{2 b_{1} g_{e} \\left(- M_{0}^{2} b_{1} c_{11} \\sin^{2}{\\left(f_{H} \\right)} \\sin^{2}{\\left(t_{H} \\right)} - M_{0}^{2} b_{1} c_{12} \\sin^{2}{\\left(f_{H} \\right)} \\sin^{2}{\\left(t_{H} \\right)} + M_{0}^{2} b_{1} c_{12} \\sin^{2}{\\left(t_{H} \\right)} \\cos^{2}{\\left(f_{H} \\right)} + M_{0}^{2} b_{1} c_{12} \\cos^{2}{\\left(t_{H} \\right)}\\right) \\sin{\\left(t_{H} \\right)} \\cos{\\left(f_{H} \\right)}}{M_{0} \\left(M_{0}^{2} c_{11}^{2} + M_{0}^{2} c_{11} c_{12} - 2.0 M_{0}^{2} c_{12}^{2}\\right)} + \\frac{2 b_{1} g_{e} \\left(- M_{0}^{2} b_{1} c_{11} \\sin^{2}{\\left(t_{H} \\right)} \\cos^{2}{\\left(f_{H} \\right)} + M_{0}^{2} b_{1} c_{12} \\sin^{2}{\\left(f_{H} \\right)} \\sin^{2}{\\left(t_{H} \\right)} - M_{0}^{2} b_{1} c_{12} \\sin^{2}{\\left(t_{H} \\right)} \\cos^{2}{\\left(f_{H} \\right)} + M_{0}^{2} b_{1} c_{12} \\cos^{2}{\\left(t_{H} \\right)}\\right) \\sin{\\left(t_{H} \\right)} \\cos{\\left(f_{H} \\right)}}{M_{0} \\left(M_{0}^{2} c_{11}^{2} + M_{0}^{2} c_{11} c_{12} - 2.0 M_{0}^{2} c_{12}^{2}\\right)} - \\frac{2.0 b_{2}^{2} g_{e} \\sin^{2}{\\left(f_{H} \\right)} \\sin^{3}{\\left(t_{H} \\right)} \\cos{\\left(f_{H} \\right)}}{M_{0} c_{44}} - \\frac{1.0 b_{2}^{2} g_{e} \\sin{\\left(t_{H} \\right)} \\cos{\\left(f_{H} \\right)} \\cos^{2}{\\left(t_{H} \\right)}}{M_{0} c_{44}} & - 1.0 i w\\end{matrix}\\right]$"
      ],
      "text/plain": [
       "Matrix([\n",
       "[                                                                                                       1.0*c_{11}*q**2*sin(t_q)**2*cos(f_q)**2/rho + 1.0*c_{44}*q**2*sin(f_q)**2*sin(t_q)**2/rho + 1.0*c_{44}*q**2*cos(t_q)**2/rho - 1.0*w**2,                                                                                                                                          1.0*c_{12}*q**2*sin(f_q)*sin(t_q)**2*cos(f_q)/rho + 1.0*c_{44}*q**2*sin(f_q)*sin(t_q)**2*cos(f_q)/rho,                                                                                                                                    1.0*c_{12}*q**2*sin(t_q)*cos(f_q)*cos(t_q)/rho + 1.0*c_{44}*q**2*sin(t_q)*cos(f_q)*cos(t_q)/rho,                                                                                                                                                                                                                                                                                                                                                                                                                                                                                                                                                                                                                                                                                                                                                                                                                                                                    -2.0*I*b_1*q*sin(t_H)*sin(t_q)*cos(f_H)*cos(f_q)/(M_0*rho) - 1.0*I*b_2*q*sin(f_H)*sin(f_q)*sin(t_H)*sin(t_q)/(M_0*rho) - 1.0*I*b_2*q*cos(t_H)*cos(t_q)/(M_0*rho),                                                                                                                                                                                                                                                                                                                                                                                                                                                                                                                                                                                                                                                                                                                                                                                                                                                                                                                                                                           -1.0*I*b_2*q*sin(f_q)*sin(t_H)*sin(t_q)*cos(f_H)/(M_0*rho),                                                                                                                                                                                                                                                                                                                                                                                                                                                                                                                                                                                                                                                                                                                                                                                                                                                                                                                                                                     -1.0*I*b_2*q*sin(t_H)*cos(f_H)*cos(t_q)/(M_0*rho)],\n",
       "[                                                                                                                                        1.0*c_{12}*q**2*sin(f_q)*sin(t_q)**2*cos(f_q)/rho + 1.0*c_{44}*q**2*sin(f_q)*sin(t_q)**2*cos(f_q)/rho,                                                                                                         1.0*c_{11}*q**2*sin(f_q)**2*sin(t_q)**2/rho + 1.0*c_{44}*q**2*sin(t_q)**2*cos(f_q)**2/rho + 1.0*c_{44}*q**2*cos(t_q)**2/rho - 1.0*w**2,                                                                                                                                    1.0*c_{12}*q**2*sin(f_q)*sin(t_q)*cos(t_q)/rho + 1.0*c_{44}*q**2*sin(f_q)*sin(t_q)*cos(t_q)/rho,                                                                                                                                                                                                                                                                                                                                                                                                                                                                                                                                                                                                                                                                                                                                                                                                                                                                                                                                                                          -1.0*I*b_2*q*sin(f_H)*sin(t_H)*sin(t_q)*cos(f_q)/(M_0*rho),                                                                                                                                                                                                                                                                                                                                                                                                                                                                                                                                                                                                                                                                                                                                                                                                                                                                     -2.0*I*b_1*q*sin(f_H)*sin(f_q)*sin(t_H)*sin(t_q)/(M_0*rho) - 1.0*I*b_2*q*sin(t_H)*sin(t_q)*cos(f_H)*cos(f_q)/(M_0*rho) - 1.0*I*b_2*q*cos(t_H)*cos(t_q)/(M_0*rho),                                                                                                                                                                                                                                                                                                                                                                                                                                                                                                                                                                                                                                                                                                                                                                                                                                                                                                                                                                     -1.0*I*b_2*q*sin(f_H)*sin(t_H)*cos(t_q)/(M_0*rho)],\n",
       "[                                                                                                                                              1.0*c_{12}*q**2*sin(t_q)*cos(f_q)*cos(t_q)/rho + 1.0*c_{44}*q**2*sin(t_q)*cos(f_q)*cos(t_q)/rho,                                                                                                                                                1.0*c_{12}*q**2*sin(f_q)*sin(t_q)*cos(t_q)/rho + 1.0*c_{44}*q**2*sin(f_q)*sin(t_q)*cos(t_q)/rho,                                                                                             1.0*c_{11}*q**2*cos(t_q)**2/rho + 1.0*c_{44}*q**2*sin(f_q)**2*sin(t_q)**2/rho + 1.0*c_{44}*q**2*sin(t_q)**2*cos(f_q)**2/rho - 1.0*w**2,                                                                                                                                                                                                                                                                                                                                                                                                                                                                                                                                                                                                                                                                                                                                                                                                                                                                                                                                                                                   -1.0*I*b_2*q*sin(t_q)*cos(f_q)*cos(t_H)/(M_0*rho),                                                                                                                                                                                                                                                                                                                                                                                                                                                                                                                                                                                                                                                                                                                                                                                                                                                                                                                                                                                    -1.0*I*b_2*q*sin(f_q)*sin(t_q)*cos(t_H)/(M_0*rho),                                                                                                                                                                                                                                                                                                                                                                                                                                                                                                                                                                                                                                                                                                                                                                                                                                                      -2.0*I*b_1*q*cos(t_H)*cos(t_q)/(M_0*rho) - 1.0*I*b_2*q*sin(f_H)*sin(f_q)*sin(t_H)*sin(t_q)/(M_0*rho) - 1.0*I*b_2*q*sin(t_H)*sin(t_q)*cos(f_H)*cos(f_q)/(M_0*rho)],\n",
       "[                                                                                                                       -1.0*I*b_2*g_e*q*sin(f_H)*sin(t_H)**2*cos(f_H)*cos(t_q) + 1.0*I*b_2*g_e*q*sin(f_q)*sin(t_H)*sin(t_q)*cos(f_H)*cos(t_H),                          2.0*I*b_1*g_e*q*sin(f_H)*sin(f_q)*sin(t_H)*sin(t_q)*cos(t_H) - 1.0*I*b_2*g_e*q*sin(f_H)**2*sin(t_H)**2*cos(t_q) + 1.0*I*b_2*g_e*q*sin(t_H)*sin(t_q)*cos(f_H)*cos(f_q)*cos(t_H) + 1.0*I*b_2*g_e*q*cos(t_H)**2*cos(t_q), -2.0*I*b_1*g_e*q*sin(f_H)*sin(t_H)*cos(t_H)*cos(t_q) - 1.0*I*b_2*g_e*q*sin(f_H)**2*sin(f_q)*sin(t_H)**2*sin(t_q) - 1.0*I*b_2*g_e*q*sin(f_H)*sin(t_H)**2*sin(t_q)*cos(f_H)*cos(f_q) + 1.0*I*b_2*g_e*q*sin(f_q)*sin(t_q)*cos(t_H)**2,                                                                                                                                                                                                                                                                                                                                                                                                                                                                                                                                                                                                                                                                                                                                                                                                                                                                                                                                                                                                                            -1.0*I*w,                                                                                      2.0*A_{ex}*g_e*q**2*sin(f_q)**2*sin(t_q)**2*cos(t_H)/M_0 + 2.0*A_{ex}*g_e*q**2*sin(t_q)**2*cos(f_q)**2*cos(t_H)/M_0 + 2.0*A_{ex}*g_e*q**2*cos(t_H)*cos(t_q)**2/M_0 + H_0*g_e*cos(t_H) - 6*K_a*g_e*sin(f_H)**2*sin(t_H)**2*cos(t_H)/M_0 + 2*K_a*g_e*cos(t_H)**3/M_0 - 1.0*I*alpha*w*cos(t_H) - 2*b_1*g_e*(-M_0**2*b_1*c_{11}*cos(t_H)**2 + M_0**2*b_1*c_{12}*sin(f_H)**2*sin(t_H)**2 + M_0**2*b_1*c_{12}*sin(t_H)**2*cos(f_H)**2 - M_0**2*b_1*c_{12}*cos(t_H)**2)*cos(t_H)/(M_0*(M_0**2*c_{11}**2 + M_0**2*c_{11}*c_{12} - 2.0*M_0**2*c_{12}**2)) + 2*b_1*g_e*(-M_0**2*b_1*c_{11}*sin(f_H)**2*sin(t_H)**2 - M_0**2*b_1*c_{12}*sin(f_H)**2*sin(t_H)**2 + M_0**2*b_1*c_{12}*sin(t_H)**2*cos(f_H)**2 + M_0**2*b_1*c_{12}*cos(t_H)**2)*cos(t_H)/(M_0*(M_0**2*c_{11}**2 + M_0**2*c_{11}*c_{12} - 2.0*M_0**2*c_{12}**2)) + 2.0*b_2**2*g_e*sin(f_H)**2*sin(t_H)**2*cos(t_H)/(M_0*c_{44}) + 1.0*b_2**2*g_e*sin(t_H)**2*cos(f_H)**2*cos(t_H)/(M_0*c_{44}), -2.0*A_{ex}*g_e*q**2*sin(f_H)*sin(f_q)**2*sin(t_H)*sin(t_q)**2/M_0 - 2.0*A_{ex}*g_e*q**2*sin(f_H)*sin(t_H)*sin(t_q)**2*cos(f_q)**2/M_0 - 2.0*A_{ex}*g_e*q**2*sin(f_H)*sin(t_H)*cos(t_q)**2/M_0 - H_0*g_e*sin(f_H)*sin(t_H) - 2*K_a*g_e*sin(f_H)**3*sin(t_H)**3/M_0 + 6*K_a*g_e*sin(f_H)*sin(t_H)*cos(t_H)**2/M_0 + 1.0*I*alpha*w*sin(f_H)*sin(t_H) - 2*b_1*g_e*(-M_0**2*b_1*c_{11}*cos(t_H)**2 + M_0**2*b_1*c_{12}*sin(f_H)**2*sin(t_H)**2 + M_0**2*b_1*c_{12}*sin(t_H)**2*cos(f_H)**2 - M_0**2*b_1*c_{12}*cos(t_H)**2)*sin(f_H)*sin(t_H)/(M_0*(M_0**2*c_{11}**2 + M_0**2*c_{11}*c_{12} - 2.0*M_0**2*c_{12}**2)) + 2*b_1*g_e*(-M_0**2*b_1*c_{11}*sin(f_H)**2*sin(t_H)**2 - M_0**2*b_1*c_{12}*sin(f_H)**2*sin(t_H)**2 + M_0**2*b_1*c_{12}*sin(t_H)**2*cos(f_H)**2 + M_0**2*b_1*c_{12}*cos(t_H)**2)*sin(f_H)*sin(t_H)/(M_0*(M_0**2*c_{11}**2 + M_0**2*c_{11}*c_{12} - 2.0*M_0**2*c_{12}**2)) - 1.0*b_2**2*g_e*sin(f_H)*sin(t_H)**3*cos(f_H)**2/(M_0*c_{44}) - 2.0*b_2**2*g_e*sin(f_H)*sin(t_H)*cos(t_H)**2/(M_0*c_{44})],\n",
       "[                       -2.0*I*b_1*g_e*q*sin(t_H)*sin(t_q)*cos(f_H)*cos(f_q)*cos(t_H) - 1.0*I*b_2*g_e*q*sin(f_H)*sin(f_q)*sin(t_H)*sin(t_q)*cos(t_H) + 1.0*I*b_2*g_e*q*sin(t_H)**2*cos(f_H)**2*cos(t_q) - 1.0*I*b_2*g_e*q*cos(t_H)**2*cos(t_q),                                                                                                                          1.0*I*b_2*g_e*q*sin(f_H)*sin(t_H)**2*cos(f_H)*cos(t_q) - 1.0*I*b_2*g_e*q*sin(f_H)*sin(t_H)*sin(t_q)*cos(f_q)*cos(t_H),  2.0*I*b_1*g_e*q*sin(t_H)*cos(f_H)*cos(t_H)*cos(t_q) + 1.0*I*b_2*g_e*q*sin(f_H)*sin(f_q)*sin(t_H)**2*sin(t_q)*cos(f_H) + 1.0*I*b_2*g_e*q*sin(t_H)**2*sin(t_q)*cos(f_H)**2*cos(f_q) - 1.0*I*b_2*g_e*q*sin(t_q)*cos(f_q)*cos(t_H)**2,                                                                                    -2.0*A_{ex}*g_e*q**2*sin(f_q)**2*sin(t_q)**2*cos(t_H)/M_0 - 2.0*A_{ex}*g_e*q**2*sin(t_q)**2*cos(f_q)**2*cos(t_H)/M_0 - 2.0*A_{ex}*g_e*q**2*cos(t_H)*cos(t_q)**2/M_0 - H_0*g_e*cos(t_H) + 6*K_a*g_e*sin(t_H)**2*cos(f_H)**2*cos(t_H)/M_0 - 2*K_a*g_e*cos(t_H)**3/M_0 + 1.0*I*alpha*w*cos(t_H) + 2*b_1*g_e*(-M_0**2*b_1*c_{11}*cos(t_H)**2 + M_0**2*b_1*c_{12}*sin(f_H)**2*sin(t_H)**2 + M_0**2*b_1*c_{12}*sin(t_H)**2*cos(f_H)**2 - M_0**2*b_1*c_{12}*cos(t_H)**2)*cos(t_H)/(M_0*(M_0**2*c_{11}**2 + M_0**2*c_{11}*c_{12} - 2.0*M_0**2*c_{12}**2)) - 2*b_1*g_e*(-M_0**2*b_1*c_{11}*sin(t_H)**2*cos(f_H)**2 + M_0**2*b_1*c_{12}*sin(f_H)**2*sin(t_H)**2 - M_0**2*b_1*c_{12}*sin(t_H)**2*cos(f_H)**2 + M_0**2*b_1*c_{12}*cos(t_H)**2)*cos(t_H)/(M_0*(M_0**2*c_{11}**2 + M_0**2*c_{11}*c_{12} - 2.0*M_0**2*c_{12}**2)) - 1.0*b_2**2*g_e*sin(f_H)**2*sin(t_H)**2*cos(t_H)/(M_0*c_{44}) - 2.0*b_2**2*g_e*sin(t_H)**2*cos(f_H)**2*cos(t_H)/(M_0*c_{44}),                                                                                                                                                                                                                                                                                                                                                                                                                                                                                                                                                                                                                                                                                                                                                                                                                                                                                                                                                                                                                             -1.0*I*w,  2.0*A_{ex}*g_e*q**2*sin(f_q)**2*sin(t_H)*sin(t_q)**2*cos(f_H)/M_0 + 2.0*A_{ex}*g_e*q**2*sin(t_H)*sin(t_q)**2*cos(f_H)*cos(f_q)**2/M_0 + 2.0*A_{ex}*g_e*q**2*sin(t_H)*cos(f_H)*cos(t_q)**2/M_0 + H_0*g_e*sin(t_H)*cos(f_H) + 2*K_a*g_e*sin(t_H)**3*cos(f_H)**3/M_0 - 6*K_a*g_e*sin(t_H)*cos(f_H)*cos(t_H)**2/M_0 - 1.0*I*alpha*w*sin(t_H)*cos(f_H) + 2*b_1*g_e*(-M_0**2*b_1*c_{11}*cos(t_H)**2 + M_0**2*b_1*c_{12}*sin(f_H)**2*sin(t_H)**2 + M_0**2*b_1*c_{12}*sin(t_H)**2*cos(f_H)**2 - M_0**2*b_1*c_{12}*cos(t_H)**2)*sin(t_H)*cos(f_H)/(M_0*(M_0**2*c_{11}**2 + M_0**2*c_{11}*c_{12} - 2.0*M_0**2*c_{12}**2)) - 2*b_1*g_e*(-M_0**2*b_1*c_{11}*sin(t_H)**2*cos(f_H)**2 + M_0**2*b_1*c_{12}*sin(f_H)**2*sin(t_H)**2 - M_0**2*b_1*c_{12}*sin(t_H)**2*cos(f_H)**2 + M_0**2*b_1*c_{12}*cos(t_H)**2)*sin(t_H)*cos(f_H)/(M_0*(M_0**2*c_{11}**2 + M_0**2*c_{11}*c_{12} - 2.0*M_0**2*c_{12}**2)) + 1.0*b_2**2*g_e*sin(f_H)**2*sin(t_H)**3*cos(f_H)/(M_0*c_{44}) + 2.0*b_2**2*g_e*sin(t_H)*cos(f_H)*cos(t_H)**2/(M_0*c_{44})],\n",
       "[2.0*I*b_1*g_e*q*sin(f_H)*sin(t_H)**2*sin(t_q)*cos(f_H)*cos(f_q) + 1.0*I*b_2*g_e*q*sin(f_H)**2*sin(f_q)*sin(t_H)**2*sin(t_q) + 1.0*I*b_2*g_e*q*sin(f_H)*sin(t_H)*cos(t_H)*cos(t_q) - 1.0*I*b_2*g_e*q*sin(f_q)*sin(t_H)**2*sin(t_q)*cos(f_H)**2, -2.0*I*b_1*g_e*q*sin(f_H)*sin(f_q)*sin(t_H)**2*sin(t_q)*cos(f_H) + 1.0*I*b_2*g_e*q*sin(f_H)**2*sin(t_H)**2*sin(t_q)*cos(f_q) - 1.0*I*b_2*g_e*q*sin(t_H)**2*sin(t_q)*cos(f_H)**2*cos(f_q) - 1.0*I*b_2*g_e*q*sin(t_H)*cos(f_H)*cos(t_H)*cos(t_q),                                                                                                        1.0*I*b_2*g_e*q*sin(f_H)*sin(t_H)*sin(t_q)*cos(f_q)*cos(t_H) - 1.0*I*b_2*g_e*q*sin(f_q)*sin(t_H)*sin(t_q)*cos(f_H)*cos(t_H), 2.0*A_{ex}*g_e*q**2*sin(f_H)*sin(f_q)**2*sin(t_H)*sin(t_q)**2/M_0 + 2.0*A_{ex}*g_e*q**2*sin(f_H)*sin(t_H)*sin(t_q)**2*cos(f_q)**2/M_0 + 2.0*A_{ex}*g_e*q**2*sin(f_H)*sin(t_H)*cos(t_q)**2/M_0 + H_0*g_e*sin(f_H)*sin(t_H) + 2*K_a*g_e*sin(f_H)**3*sin(t_H)**3/M_0 - 6*K_a*g_e*sin(f_H)*sin(t_H)**3*cos(f_H)**2/M_0 - 1.0*I*alpha*w*sin(f_H)*sin(t_H) - 2*b_1*g_e*(-M_0**2*b_1*c_{11}*sin(f_H)**2*sin(t_H)**2 - M_0**2*b_1*c_{12}*sin(f_H)**2*sin(t_H)**2 + M_0**2*b_1*c_{12}*sin(t_H)**2*cos(f_H)**2 + M_0**2*b_1*c_{12}*cos(t_H)**2)*sin(f_H)*sin(t_H)/(M_0*(M_0**2*c_{11}**2 + M_0**2*c_{11}*c_{12} - 2.0*M_0**2*c_{12}**2)) + 2*b_1*g_e*(-M_0**2*b_1*c_{11}*sin(t_H)**2*cos(f_H)**2 + M_0**2*b_1*c_{12}*sin(f_H)**2*sin(t_H)**2 - M_0**2*b_1*c_{12}*sin(t_H)**2*cos(f_H)**2 + M_0**2*b_1*c_{12}*cos(t_H)**2)*sin(f_H)*sin(t_H)/(M_0*(M_0**2*c_{11}**2 + M_0**2*c_{11}*c_{12} - 2.0*M_0**2*c_{12}**2)) + 2.0*b_2**2*g_e*sin(f_H)*sin(t_H)**3*cos(f_H)**2/(M_0*c_{44}) + 1.0*b_2**2*g_e*sin(f_H)*sin(t_H)*cos(t_H)**2/(M_0*c_{44}), -2.0*A_{ex}*g_e*q**2*sin(f_q)**2*sin(t_H)*sin(t_q)**2*cos(f_H)/M_0 - 2.0*A_{ex}*g_e*q**2*sin(t_H)*sin(t_q)**2*cos(f_H)*cos(f_q)**2/M_0 - 2.0*A_{ex}*g_e*q**2*sin(t_H)*cos(f_H)*cos(t_q)**2/M_0 - H_0*g_e*sin(t_H)*cos(f_H) + 6*K_a*g_e*sin(f_H)**2*sin(t_H)**3*cos(f_H)/M_0 - 2*K_a*g_e*sin(t_H)**3*cos(f_H)**3/M_0 + 1.0*I*alpha*w*sin(t_H)*cos(f_H) - 2*b_1*g_e*(-M_0**2*b_1*c_{11}*sin(f_H)**2*sin(t_H)**2 - M_0**2*b_1*c_{12}*sin(f_H)**2*sin(t_H)**2 + M_0**2*b_1*c_{12}*sin(t_H)**2*cos(f_H)**2 + M_0**2*b_1*c_{12}*cos(t_H)**2)*sin(t_H)*cos(f_H)/(M_0*(M_0**2*c_{11}**2 + M_0**2*c_{11}*c_{12} - 2.0*M_0**2*c_{12}**2)) + 2*b_1*g_e*(-M_0**2*b_1*c_{11}*sin(t_H)**2*cos(f_H)**2 + M_0**2*b_1*c_{12}*sin(f_H)**2*sin(t_H)**2 - M_0**2*b_1*c_{12}*sin(t_H)**2*cos(f_H)**2 + M_0**2*b_1*c_{12}*cos(t_H)**2)*sin(t_H)*cos(f_H)/(M_0*(M_0**2*c_{11}**2 + M_0**2*c_{11}*c_{12} - 2.0*M_0**2*c_{12}**2)) - 2.0*b_2**2*g_e*sin(f_H)**2*sin(t_H)**3*cos(f_H)/(M_0*c_{44}) - 1.0*b_2**2*g_e*sin(t_H)*cos(f_H)*cos(t_H)**2/(M_0*c_{44}),                                                                                                                                                                                                                                                                                                                                                                                                                                                                                                                                                                                                                                                                                                                                                                                                                                                                                                                                                                                                              -1.0*I*w]])"
      ]
     },
     "execution_count": 52,
     "metadata": {},
     "output_type": "execute_result"
    }
   ],
   "source": [
    "Matr"
   ]
  },
  {
   "cell_type": "markdown",
   "metadata": {},
   "source": [
    "## Определитель 6х6 в символьном виде"
   ]
  },
  {
   "cell_type": "code",
   "execution_count": 17,
   "metadata": {},
   "outputs": [],
   "source": [
    "from Determinant6 import Determinant6v6\n",
    "X = Matrix(sp.MatrixSymbol('X', 6, 6))\n",
    "#Xd = X.det()\n",
    "Xd = Determinant6v6(X)"
   ]
  },
  {
   "cell_type": "markdown",
   "metadata": {},
   "source": [
    "### Константы для Fe$_{82}$Ga$_{18}$"
   ]
  },
  {
   "cell_type": "code",
   "execution_count": 17,
   "metadata": {
    "id": "rFFZCL6PGxea"
   },
   "outputs": [
    {
     "data": {
      "text/plain": [
       "{'mb': 9.27400968e-21,\n",
       " 'hp': 1.054571817e-27,\n",
       " 'g': 2.05,\n",
       " 'ge': 18027904.34707777,\n",
       " 'Ka': -80000.0,\n",
       " 'ro': 7.5905,\n",
       " 'a0': 2.8999992719999997e-08,\n",
       " 'c11': 2086220397359.9995,\n",
       " 'c12': 1672968839999.9998,\n",
       " 'c44': 1252638503999.9998,\n",
       " 'M0': 1358.315664,\n",
       " 'A': 8.9092308e-07,\n",
       " 'b1': -132027099.99999996,\n",
       " 'b2': -54979528.84000003,\n",
       " 'al': 0.001}"
      ]
     },
     "execution_count": 17,
     "metadata": {},
     "output_type": "execute_result"
    }
   ],
   "source": [
    "from Parameters import Const\n",
    "\n",
    "cnst = Const(0.18)\n",
    "cnst"
   ]
  },
  {
   "cell_type": "markdown",
   "metadata": {},
   "source": [
    "\n",
    "## Строим кривые постоянной энергии, кривизны и коэф.усиления МУВ $q = q^λ_\\omega(\\theta_q)$"
   ]
  },
  {
   "cell_type": "markdown",
   "metadata": {},
   "source": [
    "Определитель матрицы (в символьном виде)"
   ]
  },
  {
   "cell_type": "code",
   "execution_count": 18,
   "metadata": {},
   "outputs": [],
   "source": [
    "Det = Xd\n",
    "for i in range(6):\n",
    "    for j in range(6):\n",
    "        Det = Det.subs(X[i,j], Matr[i,j])"
   ]
  },
  {
   "cell_type": "code",
   "execution_count": null,
   "metadata": {},
   "outputs": [],
   "source": [
    "import sys\n",
    "sys.setrecursionlimit(10000)\n",
    "\n",
    "import Derivative_Gqq\n",
    "import Derivative_Gqf\n",
    "import Derivative_Gqt\n",
    "import Derivative_Gtt\n",
    "import Derivative_Gtf\n",
    "import Derivative_Gff"
   ]
  },
  {
   "cell_type": "markdown",
   "metadata": {},
   "source": [
    "Производные определителя"
   ]
  },
  {
   "cell_type": "code",
   "execution_count": 19,
   "metadata": {},
   "outputs": [],
   "source": [
    "Gq, Gt, Gf, Gw = Det.diff(q), Det.diff(tq), Det.diff(fq), Det.diff(w)\n",
    "Gqq, Gtt, Gff = Gq.diff(q), Gt.diff(tq), Gf.diff(fq)\n",
    "Gtf, Gqt, Gqf = Gt.diff(fq), Gq.diff(tq), Gq.diff(fq)\n",
    "\n",
    "#Gq, Gqq, Gt, Gtt, Gf, Gff = Gq.subs(sub), Gqq.subs(sub), Gt.subs(sub), Gtt.subs(sub), Gf.subs(sub), Gff.subs(sub)\n",
    "#Gtf, Gqt, Gqf = Gtf.subs(sub), Gqt.subs(sub), Gqf.subs(sub)\n",
    "\n",
    "# G...- Функции от w, q, tq, fq"
   ]
  },
  {
   "cell_type": "code",
   "execution_count": 29,
   "metadata": {},
   "outputs": [],
   "source": [
    "#input text\n",
    "input_dictionary = Gqf\n",
    " \n",
    "#open file\n",
    "file = open(\"Gqf.txt\", \"w\")\n",
    " \n",
    "#convert variable to string\n",
    "str = repr(input_dictionary)\n",
    "file.write(\"Gqf = \" + str + \"\\n\")\n",
    " \n",
    "#close file\n",
    "file.close()"
   ]
  },
  {
   "cell_type": "code",
   "execution_count": 58,
   "metadata": {},
   "outputs": [],
   "source": [
    "# Направление магн поля\n",
    "tH, fH = np.arctan(np.sqrt(2)), np.pi/4\n",
    "\n",
    "H0 = 3e3\n",
    "\n",
    "sub = {'c_{11}': cnst['c11'], 'c_{12}': cnst['c12'], 'c_{44}': cnst['c44'], 'b_1': cnst['b1'], 'b_2': cnst['b2'],\n",
    "          'rho': cnst['ro'], 'g_e': cnst['ge'], 'A_{ex}': cnst['A'], 'K_a': cnst['Ka'], 'M_0': cnst['M0'],\n",
    "          'alpha': cnst['al'], 't_H': tH, 'f_H': fH, 'H_0': H0}\n",
    "\n",
    "Matr1 = Matr.subs(sub)\n",
    "\n",
    "Det = Xd\n",
    "for i in range(6):\n",
    "    for j in range(6):\n",
    "        Det = Det.subs(X[i,j], Matr1[i,j])\n",
    "Det = expand(Det)"
   ]
  },
  {
   "cell_type": "markdown",
   "metadata": {},
   "source": [
    "Кривизна и кэф.усиления"
   ]
  },
  {
   "cell_type": "code",
   "execution_count": 21,
   "metadata": {
    "scrolled": true
   },
   "outputs": [],
   "source": [
    "from Curvature_Htau import Curv\n",
    "# Curv(Gq, Gt, Gf, Gqq, Gtt, Gff, Gtf, Gqt, Gqf, q, tq, fq):\n",
    "    # G...- Функции от w, q, tq, fq"
   ]
  },
  {
   "cell_type": "markdown",
   "metadata": {},
   "source": [
    "Групповая скорость $\\mathbf{V} = \\dfrac{\\partial \\omega}{\\partial \\mathbf{q}} = (V_q, V_\\theta, V_\\varphi)$ и $(V_x,V_y,V_z)$"
   ]
  },
  {
   "cell_type": "code",
   "execution_count": null,
   "metadata": {},
   "outputs": [],
   "source": [
    "Vq, Vt, Vf = -Gq/Gw, -1/q*Gt/Gw, -1/(q*sp.sin(tq))*Gf/Gw\n",
    "\n",
    "Vx = Vq*sp.sin(tq)*sp.cos(fq) + Vt*sp.cos(tq)*sp.cos(fq) - Vf*sp.sin(fq)\n",
    "Vy = Vq*sp.sin(tq)*sp.sin(fq) + Vt*sp.cos(tq)*sp.sin(fq) + Vf*sp.cos(fq)\n",
    "Vz = Vq*sp.cos(tq) - Vt*sp.sin(tq)"
   ]
  },
  {
   "cell_type": "code",
   "execution_count": 34,
   "metadata": {},
   "outputs": [
    {
     "name": "stderr",
     "output_type": "stream",
     "text": [
      "Progress teta_q: 100%|███████████████████████| 50/50 [5:51:53<00:00, 422.27s/it]\n"
     ]
    }
   ],
   "source": [
    "# Частота\n",
    "w = cnst['ge']*H0*1.03\n",
    "\n",
    "#  Направление волнового вектора\n",
    "fq = np.linspace(1e-3, np.pi/2, 50)\n",
    "tq = np.linspace(1e-3, np.pi/2, 50)\n",
    "\n",
    "q_num     = np.zeros((len(tq),len(fq),4), dtype=np.complex128)\n",
    "Curvature = np.zeros((len(tq),len(fq),4), dtype=np.complex128)\n",
    "Ampl      = np.zeros((len(tq),len(fq),4))\n",
    "\n",
    "Det = Det.subs('w', w)\n",
    "for i in tqdm(range(len(tq)), desc= 'Progress teta_q'):      # \"tqdm\" display the progress bar\n",
    "    Det_ = Det.subs('t_q', tq[i])    \n",
    "    for j in range(len(fq)):     \n",
    "        Det__ = Det_.subs('f_q', fq[j])    \n",
    "        DetM_pol = Poly(Det__)\n",
    "        coef_ = DetM_pol.all_coeffs()\n",
    "        coef = []\n",
    "        [coef.append(complex(kk)) for kk in coef_]  \n",
    "        rts = np.roots(coef) # Поиск корней полинома \n",
    "        \n",
    "        rts = rts[np.where((np.real(rts) > 0) & (np.real(rts)<1e10) & (np.real(rts)>np.imag(rts)))]           \n",
    "        if len(rts) < 4: rts = np.append(rts, np.zeros(4 - len(rts)))\n",
    "    \n",
    "        q_num[i,j,:] = np.sort_complex(rts)[::-1] # сортировка по убыванию\n",
    "    \n",
    "        for k in range(4):\n",
    "            Vals = Curv(Gq, Gt, Gf, Gqq, Gtt, Gff, Gtf, Gqt, Gqf, w, q_num[i,j,k], tq[i], fq[j])\n",
    "            Curvature[i,j,k] = Vals['Curvature']\n",
    "            Ampl[i,j,k] = Vals['Ampl']\n",
    "    \n",
    "q_re = np.real(q_num)\n",
    "q_im = np.imag(q_num)"
   ]
  },
  {
   "cell_type": "code",
   "execution_count": 47,
   "metadata": {},
   "outputs": [
    {
     "data": {
      "image/png": "[encoded data removed]",
      "text/plain": [
       "<Figure size 432x288 with 2 Axes>"
      ]
     },
     "metadata": {
      "needs_background": "light"
     },
     "output_type": "display_data"
    }
   ],
   "source": [
    "p1 = sns.heatmap(np.real(Curvature[:,:,1]))"
   ]
  },
  {
   "cell_type": "code",
   "execution_count": 42,
   "metadata": {},
   "outputs": [
    {
     "data": {
      "image/png": "[encoded data removed]",
      "text/plain": [
       "<Figure size 432x288 with 2 Axes>"
      ]
     },
     "metadata": {
      "needs_background": "light"
     },
     "output_type": "display_data"
    }
   ],
   "source": [
    "p1 = sns.heatmap(Ampl[:,:,0])"
   ]
  },
  {
   "cell_type": "code",
   "execution_count": 52,
   "metadata": {
    "collapsed": true,
    "jupyter": {
     "outputs_hidden": true
    }
   },
   "outputs": [
    {
     "ename": "AttributeError",
     "evalue": "'DataFrame' object has no attribute 'set_caption'",
     "output_type": "error",
     "traceback": [
      "\u001b[0;31m---------------------------------------------------------------------------\u001b[0m",
      "\u001b[0;31mAttributeError\u001b[0m                            Traceback (most recent call last)",
      "Input \u001b[0;32mIn [52]\u001b[0m, in \u001b[0;36m<cell line: 3>\u001b[0;34m()\u001b[0m\n\u001b[1;32m      1\u001b[0m \u001b[38;5;28;01mimport\u001b[39;00m \u001b[38;5;21;01mpandas\u001b[39;00m \u001b[38;5;28;01mas\u001b[39;00m \u001b[38;5;21;01mpd\u001b[39;00m\n\u001b[0;32m----> 3\u001b[0m \u001b[43mpd\u001b[49m\u001b[38;5;241;43m.\u001b[39;49m\u001b[43mDataFrame\u001b[49m\u001b[43m(\u001b[49m\u001b[43mdata\u001b[49m\u001b[38;5;241;43m=\u001b[39;49m\u001b[43mCurvature\u001b[49m\u001b[43m[\u001b[49m\u001b[43m:\u001b[49m\u001b[43m,\u001b[49m\u001b[43m:\u001b[49m\u001b[43m,\u001b[49m\u001b[38;5;241;43m0\u001b[39;49m\u001b[43m]\u001b[49m\u001b[43m)\u001b[49m\u001b[38;5;241;43m.\u001b[39;49m\u001b[43mset_caption\u001b[49m(\u001b[38;5;124m'\u001b[39m\u001b[38;5;124mCaption\u001b[39m\u001b[38;5;124m'\u001b[39m)\u001b[38;5;241m.\u001b[39mto_csv(\u001b[38;5;124m'\u001b[39m\u001b[38;5;124mCurvature0\u001b[39m\u001b[38;5;124m'\u001b[39m,index\u001b[38;5;241m=\u001b[39m\u001b[38;5;28;01mTrue\u001b[39;00m)\n\u001b[1;32m      4\u001b[0m pd\u001b[38;5;241m.\u001b[39mDataFrame(data\u001b[38;5;241m=\u001b[39mCurvature[:,:,\u001b[38;5;241m1\u001b[39m])\u001b[38;5;241m.\u001b[39mto_csv(\u001b[38;5;124m'\u001b[39m\u001b[38;5;124mCurvature1\u001b[39m\u001b[38;5;124m'\u001b[39m,index\u001b[38;5;241m=\u001b[39m\u001b[38;5;28;01mTrue\u001b[39;00m)\n\u001b[1;32m      5\u001b[0m pd\u001b[38;5;241m.\u001b[39mDataFrame(data\u001b[38;5;241m=\u001b[39mCurvature[:,:,\u001b[38;5;241m2\u001b[39m])\u001b[38;5;241m.\u001b[39mto_csv(\u001b[38;5;124m'\u001b[39m\u001b[38;5;124mCurvature2\u001b[39m\u001b[38;5;124m'\u001b[39m,index\u001b[38;5;241m=\u001b[39m\u001b[38;5;28;01mTrue\u001b[39;00m)\n",
      "File \u001b[0;32m~/anaconda3/lib/python3.9/site-packages/pandas/core/generic.py:5575\u001b[0m, in \u001b[0;36mNDFrame.__getattr__\u001b[0;34m(self, name)\u001b[0m\n\u001b[1;32m   5568\u001b[0m \u001b[38;5;28;01mif\u001b[39;00m (\n\u001b[1;32m   5569\u001b[0m     name \u001b[38;5;129;01mnot\u001b[39;00m \u001b[38;5;129;01min\u001b[39;00m \u001b[38;5;28mself\u001b[39m\u001b[38;5;241m.\u001b[39m_internal_names_set\n\u001b[1;32m   5570\u001b[0m     \u001b[38;5;129;01mand\u001b[39;00m name \u001b[38;5;129;01mnot\u001b[39;00m \u001b[38;5;129;01min\u001b[39;00m \u001b[38;5;28mself\u001b[39m\u001b[38;5;241m.\u001b[39m_metadata\n\u001b[1;32m   5571\u001b[0m     \u001b[38;5;129;01mand\u001b[39;00m name \u001b[38;5;129;01mnot\u001b[39;00m \u001b[38;5;129;01min\u001b[39;00m \u001b[38;5;28mself\u001b[39m\u001b[38;5;241m.\u001b[39m_accessors\n\u001b[1;32m   5572\u001b[0m     \u001b[38;5;129;01mand\u001b[39;00m \u001b[38;5;28mself\u001b[39m\u001b[38;5;241m.\u001b[39m_info_axis\u001b[38;5;241m.\u001b[39m_can_hold_identifiers_and_holds_name(name)\n\u001b[1;32m   5573\u001b[0m ):\n\u001b[1;32m   5574\u001b[0m     \u001b[38;5;28;01mreturn\u001b[39;00m \u001b[38;5;28mself\u001b[39m[name]\n\u001b[0;32m-> 5575\u001b[0m \u001b[38;5;28;01mreturn\u001b[39;00m \u001b[38;5;28;43mobject\u001b[39;49m\u001b[38;5;241;43m.\u001b[39;49m\u001b[38;5;21;43m__getattribute__\u001b[39;49m\u001b[43m(\u001b[49m\u001b[38;5;28;43mself\u001b[39;49m\u001b[43m,\u001b[49m\u001b[43m \u001b[49m\u001b[43mname\u001b[49m\u001b[43m)\u001b[49m\n",
      "\u001b[0;31mAttributeError\u001b[0m: 'DataFrame' object has no attribute 'set_caption'"
     ]
    }
   ],
   "source": [
    "pd.DataFrame(data=Curvature[:,:,0]).to_csv('Curvature0',index=True)\n",
    "pd.DataFrame(data=Curvature[:,:,1]).to_csv('Curvature1',index=True)\n",
    "pd.DataFrame(data=Curvature[:,:,2]).to_csv('Curvature2',index=True)\n",
    "pd.DataFrame(data=Curvature[:,:,3]).to_csv('Curvature3',index=True)\n",
    "\n",
    "pd.DataFrame(data=Ampl[:,:,0]).to_csv('Ampl0',index=True)\n",
    "pd.DataFrame(data=Ampl[:,:,1]).to_csv('Ampl1',index=True)\n",
    "pd.DataFrame(data=Ampl[:,:,2]).to_csv('Ampl2',index=True)\n",
    "pd.DataFrame(data=Ampl[:,:,3]).to_csv('Ampl3',index=True)"
   ]
  },
  {
   "cell_type": "markdown",
   "metadata": {},
   "source": [
    "### Ищем точки нулевой кривизны $\\theta_c, \\varphi_c$ в $\\mathbf{q}$-пространстве\n",
    "$\\textrm{Re}(K^\\lambda_\\omega(\\theta_c, \\varphi_c)) = 0$"
   ]
  },
  {
   "cell_type": "code",
   "execution_count": 45,
   "metadata": {},
   "outputs": [],
   "source": [
    "Curv0 = pd.read_csv('Curvature0', index_col=0).astype('complex').to_numpy()\n",
    "\n",
    "Curv0 = np.real(Curv0)\n",
    "\n",
    "fq = np.linspace(1e-3, np.pi/2, 50)\n",
    "tq = np.linspace(1e-3, np.pi/2, 50)\n",
    "\n",
    "tc=[]\n",
    "fc=[] \n",
    "\n",
    "for j in range(np.shape(Curv0)[1]):\n",
    "    for i in range(np.shape(Curv0)[0]-1):\n",
    "        if Curv0[i,j]*Curv0[i+1,j] <= 0:\n",
    "            tc.append(0.5*(tq[i] + tq[i+1]))\n",
    "            fc.append(fq[j])"
   ]
  },
  {
   "cell_type": "code",
   "execution_count": 49,
   "metadata": {},
   "outputs": [
    {
     "data": {
      "text/plain": [
       "[<matplotlib.lines.Line2D at 0x7fb5706d0910>]"
      ]
     },
     "execution_count": 49,
     "metadata": {},
     "output_type": "execute_result"
    },
    {
     "data": {
      "image/png": "[encoded data removed]",
      "text/plain": [
       "<Figure size 432x288 with 1 Axes>"
      ]
     },
     "metadata": {
      "needs_background": "light"
     },
     "output_type": "display_data"
    }
   ],
   "source": [
    "plt.plot(fc,tc, '.')"
   ]
  },
  {
   "cell_type": "code",
   "execution_count": null,
   "metadata": {},
   "outputs": [],
   "source": [
    "dat = {'teta_q, rad': tq, 'q1_re, 1/cm': q_re[:,0], 'q2_re': q_re[:,1], 'q3_re': q_re[:,2], 'q4_re': q_re[:,3],\n",
    "      'q1_im': q_im[:,0], 'q2_im': q_im[:,1], 'q3_im': q_im[:,2], 'q4_im': q_im[:,3],\n",
    "      'K1_re, 1/cm^2': np.real(Curvature[:,0]), 'K2_re': np.real(Curvature[:,1]),'K3_re': np.real(Curvature[:,2]),'K4_re': np.real(Curvature[:,3]),\n",
    "      'K1_im': np.imag(Curvature[:,0]), 'K2_im': np.imag(Curvature[:,1]),'K3_im': np.imag(Curvature[:,2]),'K4_im': np.imag(Curvature[:,3]),\n",
    "      'A1': np.real(Ampl[:,0]), 'A2': np.real(Ampl[:,1]), 'A3': np.real(Ampl[:,2]), 'A4': np.real(Ampl[:,3])}\n",
    "rez = pd.DataFrame(data=dat)\n",
    "\n",
    "rez.to_csv('q_vs_tq',index=False)\n",
    "rez"
   ]
  },
  {
   "cell_type": "markdown",
   "metadata": {},
   "source": [
    "## Plotting"
   ]
  },
  {
   "cell_type": "code",
   "execution_count": null,
   "metadata": {},
   "outputs": [],
   "source": [
    "fig, ax = plt.subplots(1,2, figsize = (20,20), subplot_kw= {'projection': 'polar'})\n",
    "ax[0].plot(tq, np.abs(q_re[:,:])*cnst['a0'], '-', tq, np.abs(q_re0[:,:])*cnst['a0'], '--')\n",
    "ax[1].plot(tq, np.abs(q_im[:,:])*cnst['a0'], '-', tq, np.abs(q_im0[:,:])*cnst['a0'], '--')\n",
    "ax[0].set(ylabel='Re(q)a'), ax[1].set(ylabel='Im(q)a')\n",
    "ax[0].set_thetalim([0, np.pi/2]), ax[1].set_thetalim([0, np.pi/2])\n",
    "ax[0].set_thetagrids([0, 15, 30, 45, 60, 75, 90]), ax[1].set_thetagrids([0, 15, 30, 45, 60, 75, 90])\n",
    "ax[0].grid(True), ax[1].grid(True)\n",
    "ax[0].yaxis.set_major_formatter(mpl.ticker.StrMethodFormatter(\"{x:.0e}\"))\n",
    "ax[1].yaxis.set_major_formatter(mpl.ticker.StrMethodFormatter(\"{x:.0e}\"))\n",
    "plt.rcParams['font.size'] = 18\n",
    "plt.rcParams['axes.linewidth'] = 1.5\n",
    "plt.show()\n",
    "ax[0].clear, ax[1].clear\n",
    "\n",
    "fig, ax = plt.subplots(1,2, figsize=(20,10))\n",
    "ax[0].plot(tq, np.real(Curvature[:,:])/cnst['a0']**2, '-', tq, np.real(Curvature0[:,:])/cnst['a0']**2, '--')\n",
    "ax[0].set(xlabel='theta', ylabel='Re(K)')\n",
    "ax[0].grid()\n",
    "ax[1].plot(tq, np.imag(Curvature[:,:])/cnst['a0']**2, '-', tq, np.imag(Curvature0[:,:])/cnst['a0']**2, '--')\n",
    "ax[1].set(xlabel='theta', ylabel='Im(K)')\n",
    "ax[1].grid()\n",
    "plt.show()\n",
    "\n",
    "fig, ax = plt.subplots(1,1, figsize=(14, 5))\n",
    "ax.plot(tq, np.real(Ampl[:,:]), '-', tq, np.real(Ampl0[:,:]), '--')\n",
    "ax.set(xlabel='theta', ylabel='Ampl_Factor')\n",
    "ax.set_yscale('log')\n",
    "ax.grid()\n",
    "plt.rcParams['font.size'] = 14\n",
    "plt.rcParams['axes.linewidth'] = 1.5\n",
    "plt.show()"
   ]
  },
  {
   "cell_type": "markdown",
   "metadata": {
    "colab": {
     "base_uri": "https://localhost:8080/",
     "height": 873
    },
    "id": "6WtnWI8KRf1c",
    "outputId": "2c146295-51f3-433a-c2b5-9f39a7bbf065"
   },
   "source": [
    "vL111 = np.sqrt(c11/ro*(1+2/3*(c12+2*c44-c11)/c11))\n",
    "vT111 = np.sqrt(c44/ro*(1-1/3*(c12+2*c44-c11)/c44))\n",
    "\n",
    "vL110 = np.sqrt(c11/ro*(1+1/2*(c12+2*c44-c11)/c11))\n",
    "vT110 = np.sqrt(c44/ro*(1-1/2*(c12+2*c44-c11)/c44))\n",
    "vT100 = np.sqrt(c44/ro)"
   ]
  },
  {
   "cell_type": "code",
   "execution_count": null,
   "metadata": {},
   "outputs": [],
   "source": []
  },
  {
   "cell_type": "code",
   "execution_count": null,
   "metadata": {},
   "outputs": [],
   "source": []
  }
 ],
 "metadata": {
  "celltoolbar": "Отсутствует",
  "colab": {
   "provenance": []
  },
  "kernelspec": {
   "display_name": "Python 3 (ipykernel)",
   "language": "python",
   "name": "python3"
  },
  "language_info": {
   "codemirror_mode": {
    "name": "ipython",
    "version": 3
   },
   "file_extension": ".py",
   "mimetype": "text/x-python",
   "name": "python",
   "nbconvert_exporter": "python",
   "pygments_lexer": "ipython3",
   "version": "3.8.10"
  },
  "latex_envs": {
   "LaTeX_envs_menu_present": true,
   "autoclose": false,
   "autocomplete": true,
   "bibliofile": "biblio.bib",
   "cite_by": "apalike",
   "current_citInitial": 1,
   "eqLabelWithNumbers": true,
   "eqNumInitial": 1,
   "hotkeys": {
    "equation": "Ctrl-E",
    "itemize": "Ctrl-I"
   },
   "labels_anchors": false,
   "latex_user_defs": false,
   "report_style_numbering": false,
   "user_envs_cfg": false
  },
  "toc": {
   "base_numbering": 1,
   "nav_menu": {},
   "number_sections": true,
   "sideBar": true,
   "skip_h1_title": false,
   "title_cell": "Table of Contents",
   "title_sidebar": "Contents",
   "toc_cell": false,
   "toc_position": {},
   "toc_section_display": true,
   "toc_window_display": false
  },
  "toc-autonumbering": true,
  "toc-showcode": false,
  "toc-showmarkdowntxt": false,
  "varInspector": {
   "cols": {
    "lenName": 16,
    "lenType": 16,
    "lenVar": 40
   },
   "kernels_config": {
    "python": {
     "delete_cmd_postfix": "",
     "delete_cmd_prefix": "del ",
     "library": "var_list.py",
     "varRefreshCmd": "print(var_dic_list())"
    },
    "r": {
     "delete_cmd_postfix": ") ",
     "delete_cmd_prefix": "rm(",
     "library": "var_list.r",
     "varRefreshCmd": "cat(var_dic_list()) "
    }
   },
   "types_to_exclude": [
    "module",
    "function",
    "builtin_function_or_method",
    "instance",
    "_Feature"
   ],
   "window_display": false
  },
  "vscode": {
   "interpreter": {
    "hash": "00aef3b98e4ccb3322387f6c47ad24282262e1fd4d41067bd78cec0ceaa17bd0"
   }
  },
  "widgets": {
   "application/vnd.jupyter.widget-state+json": {
    "state": {},
    "version_major": 2,
    "version_minor": 0
   }
  }
 },
 "nbformat": 4,
 "nbformat_minor": 4
}
